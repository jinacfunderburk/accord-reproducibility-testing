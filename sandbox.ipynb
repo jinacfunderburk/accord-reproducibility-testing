{
 "cells": [
  {
   "cell_type": "code",
   "execution_count": 26,
   "id": "e44c6bda-574a-4102-a8cf-8b7168de426d",
   "metadata": {
    "vscode": {
     "languageId": "c++"
    }
   },
   "outputs": [],
   "source": [
    "#pragma cling add_include_path(\"/workspaces/gconcorde/eigen-3.4.0\")\n",
    "\n",
    "#include <iostream>\n",
    "#include <Eigen/Dense>\n",
    "#include <Eigen/Sparse>\n",
    "\n",
    "using namespace std;"
   ]
  },
  {
   "cell_type": "code",
   "execution_count": 27,
   "id": "fb2c08c8",
   "metadata": {
    "vscode": {
     "languageId": "c++"
    }
   },
   "outputs": [
    {
     "name": "stdout",
     "output_type": "stream",
     "text": [
      "1 1 1\n",
      "1 1 1\n",
      "1 1 1\n"
     ]
    }
   ],
   "source": [
    "//Eigen::MatrixXd asdf = Eigen::MatrixXd::Random(3, 3);\n",
    "Eigen::MatrixXd asdf = Eigen::MatrixXd::Ones(3, 3);\n",
    "cout << asdf << endl;"
   ]
  },
  {
   "cell_type": "code",
   "execution_count": 29,
   "id": "0671ecdc",
   "metadata": {
    "vscode": {
     "languageId": "c++"
    }
   },
   "outputs": [
    {
     "name": "stdout",
     "output_type": "stream",
     "text": [
      "1.61803\n",
      "1.61803\n",
      "1.61803\n"
     ]
    }
   ],
   "source": [
    "Eigen::ArrayXd y = asdf.diagonal().array();\n",
    "double tau = 1.0;\n",
    "y = 0.5 * (y+(y.pow(2.0)+4*tau*Eigen::VectorXd::Ones(p).array()).sqrt());\n",
    "cout << y << endl;"
   ]
  },
  {
   "cell_type": "code",
   "execution_count": null,
   "id": "702f1a5a",
   "metadata": {
    "vscode": {
     "languageId": "c++"
    }
   },
   "outputs": [],
   "source": [
    "Eigen::SparseMatrix<double> spmat(3, 3);\n",
    "Eigen::MatrixXd dmat(3, 3);"
   ]
  },
  {
   "cell_type": "code",
   "execution_count": null,
   "id": "97fa862a",
   "metadata": {
    "vscode": {
     "languageId": "c++"
    }
   },
   "outputs": [],
   "source": [
    "dmat.diagonal() = y;"
   ]
  },
  {
   "cell_type": "code",
   "execution_count": null,
   "id": "062bcb5c",
   "metadata": {
    "vscode": {
     "languageId": "c++"
    }
   },
   "outputs": [
    {
     "name": "stdout",
     "output_type": "stream",
     "text": [
      "     1.11803 5.13375e+160  1.37698e-70\n",
      "           0      1.11803  5.14284e+25\n",
      " 6.0338e+247  2.10731e+25      1.11803\n"
     ]
    }
   ],
   "source": [
    "cout << dmat << endl;"
   ]
  },
  {
   "cell_type": "code",
   "execution_count": null,
   "id": "13ea5e0b-54a1-490b-b322-29e0f039e18c",
   "metadata": {
    "vscode": {
     "languageId": "c++"
    }
   },
   "outputs": [
    {
     "name": "stdout",
     "output_type": "stream",
     "text": [
      "1 0 0\n",
      "0 1 0\n",
      "0 0 1\n",
      "0 0 0\n"
     ]
    }
   ],
   "source": [
    "cout << Eigen::MatrixXd::Identity(4, 3) << endl;"
   ]
  },
  {
   "cell_type": "code",
   "execution_count": null,
   "id": "59b99cce",
   "metadata": {
    "vscode": {
     "languageId": "c++"
    }
   },
   "outputs": [
    {
     "name": "stdout",
     "output_type": "stream",
     "text": [
      " 8.37445 -11.5777  8.12897\n",
      "-11.5777  16.6212 -11.6627\n",
      " 8.12897 -11.6627  8.52675\n"
     ]
    }
   ],
   "source": [
    "Eigen::MatrixXd S(3, 3);\n",
    "S << 8.37445101, -11.57766349,   8.12897005, -11.57766349, 16.62120995, -11.66265577,   8.12897005, -11.66265577, 8.52675233;\n",
    "cout << S << endl;\n",
    "\n",
    "double lambda2 = 0.0;\n",
    "double epstol = 1e-5;\n",
    "int maxitr = 100;\n",
    "int steptype = 1;"
   ]
  },
  {
   "cell_type": "code",
   "execution_count": null,
   "id": "544bfbe3",
   "metadata": {
    "vscode": {
     "languageId": "c++"
    }
   },
   "outputs": [],
   "source": [
    "int p = S.cols()"
   ]
  },
  {
   "cell_type": "code",
   "execution_count": null,
   "id": "9595c7eb",
   "metadata": {
    "vscode": {
     "languageId": "c++"
    }
   },
   "outputs": [
    {
     "name": "stdout",
     "output_type": "stream",
     "text": [
      "16.7612\n"
     ]
    }
   ],
   "source": [
    "Eigen::SparseMatrix<double> X(p, p);\n",
    "X.setIdentity();\n",
    "Eigen::SparseMatrix<double> Xn(p, p);\n",
    "Eigen::DiagonalMatrix<double, Eigen::Dynamic> XdiagM(p);\n",
    "Eigen::SparseMatrix<double> Step;\n",
    "Eigen::MatrixXd W = S * X;\n",
    "Eigen::MatrixXd Wn(p, p);\n",
    "Eigen::MatrixXd G(p, p);\n",
    "Eigen::MatrixXd Gn(p, p);\n",
    "Eigen::MatrixXd subg(p, p);\n",
    "Eigen::MatrixXd tmp(p, p);\n",
    "\n",
    "double h = - X.diagonal().array().log().sum() + 0.5 * ((X*W).diagonal().sum()) + (lambda2 * pow(X.norm(), 2));\n",
    "\n",
    "std::cout << h << std::endl;"
   ]
  },
  {
   "cell_type": "code",
   "execution_count": null,
   "id": "54b78f48",
   "metadata": {
    "vscode": {
     "languageId": "c++"
    }
   },
   "outputs": [
    {
     "name": "stdout",
     "output_type": "stream",
     "text": [
      "0\n"
     ]
    }
   ],
   "source": [
    "cout << X.diagonal().array().log().sum() << endl;"
   ]
  },
  {
   "cell_type": "code",
   "execution_count": null,
   "id": "672d889c-6652-4bf4-9d8b-bfc0909a9309",
   "metadata": {
    "vscode": {
     "languageId": "c++"
    }
   },
   "outputs": [
    {
     "name": "stdout",
     "output_type": "stream",
     "text": [
      "8.37445\n",
      "16.6212\n",
      "8.52675\n"
     ]
    }
   ],
   "source": [
    "cout << (X*W).diagonal() << endl;"
   ]
  },
  {
   "cell_type": "code",
   "execution_count": null,
   "id": "f3618632-8e08-4b8e-b254-37156d299b5d",
   "metadata": {
    "vscode": {
     "languageId": "c++"
    }
   },
   "outputs": [],
   "source": [
    "Eigen::SparseMatrix<double> m(4,3)"
   ]
  },
  {
   "cell_type": "code",
   "execution_count": null,
   "id": "81d65177",
   "metadata": {
    "vscode": {
     "languageId": "c++"
    }
   },
   "outputs": [
    {
     "name": "stdout",
     "output_type": "stream",
     "text": [
      " 8.37445 -11.5777  8.12897\n",
      "-11.5777  16.6212 -11.6627\n",
      " 8.12897 -11.6627  8.52675\n"
     ]
    }
   ],
   "source": [
    "std::cout << W << std::endl;"
   ]
  },
  {
   "cell_type": "code",
   "execution_count": null,
   "id": "175b0bd5",
   "metadata": {
    "vscode": {
     "languageId": "c++"
    }
   },
   "outputs": [
    {
     "name": "stdout",
     "output_type": "stream",
     "text": [
      " 0.604832  0.169674 -0.082875\n",
      "-0.177022  0.526415  0.480281\n",
      "-0.470295 -0.412623  0.646391\n"
     ]
    }
   ],
   "source": [
    "cout << Eigen::MatrixXd::Random(3,3) << endl;"
   ]
  },
  {
   "cell_type": "code",
   "execution_count": null,
   "id": "3234fcec",
   "metadata": {
    "vscode": {
     "languageId": "c++"
    }
   },
   "outputs": [
    {
     "name": "stdout",
     "output_type": "stream",
     "text": [
      " 8.37445 -11.5777  8.12897\n",
      "-11.5777  16.6212 -11.6627\n",
      " 8.12897 -11.6627  8.52675\n"
     ]
    }
   ],
   "source": [
    "cout << W << endl;"
   ]
  },
  {
   "cell_type": "code",
   "execution_count": null,
   "id": "e39e5670",
   "metadata": {
    "vscode": {
     "languageId": "c++"
    }
   },
   "outputs": [
    {
     "name": "stdout",
     "output_type": "stream",
     "text": [
      " 8.37445 -11.5777  8.12897\n",
      "-11.5777  16.6212 -11.6627\n",
      " 8.12897 -11.6627  8.52675\n"
     ]
    }
   ],
   "source": [
    "W = S * X;\n",
    "cout << W << endl;"
   ]
  },
  {
   "cell_type": "code",
   "execution_count": null,
   "id": "f346a9b1",
   "metadata": {
    "vscode": {
     "languageId": "c++"
    }
   },
   "outputs": [],
   "source": [
    "Eigen::DiagonalMatrix<double, Eigen::Dynamic> dmat;\n",
    "dmat = W.diagonal().asDiagonal();"
   ]
  },
  {
   "cell_type": "code",
   "execution_count": null,
   "id": "d2d1a442",
   "metadata": {
    "vscode": {
     "languageId": "c++"
    }
   },
   "outputs": [],
   "source": [
    "Eigen::VectorXd asdf = W.diagonal();"
   ]
  },
  {
   "cell_type": "code",
   "execution_count": null,
   "id": "c03b7fc1",
   "metadata": {
    "vscode": {
     "languageId": "c++"
    }
   },
   "outputs": [
    {
     "name": "stderr",
     "output_type": "stream",
     "text": [
      "input_line_28:5:13: error: member reference base type 'Eigen::DiagonalMatrix<double, Eigen::Dynamic, Eigen::Dynamic> (const Eigen::Ref<Eigen::MatrixXd>)' (aka 'DiagonalMatrix<double, Eigen::Dynamic, Eigen::Dynamic> (const Ref<Matrix<double, Dynamic, Dynamic> >)') is not a structure or union\n",
      "cout << dmat.diagonal() << endl;\n",
      "        ~~~~^~~~~~~~~\n"
     ]
    },
    {
     "ename": "Interpreter Error",
     "evalue": "",
     "output_type": "error",
     "traceback": [
      "Interpreter Error: "
     ]
    }
   ],
   "source": [
    "double asdf = 3.0;\n",
    "Eigen::DiagonalMatrix<double, Eigen::Dynamic, Eigen::Dynamic> dmat(const Eigen::Ref<Eigen::MatrixXd> W);\n",
    "// dmat = W.diagonal().asDiagonal();\n",
    "cout << dmat.diagonal() << endl;"
   ]
  },
  {
   "cell_type": "code",
   "execution_count": null,
   "id": "0627f735",
   "metadata": {
    "vscode": {
     "languageId": "c++"
    }
   },
   "outputs": [
    {
     "name": "stderr",
     "output_type": "stream",
     "text": [
      "input_line_38:3:6: error: invalid operands to binary expression ('std::ostream' (aka 'basic_ostream<char>') and 'Eigen::DiagonalMatrix<double, Eigen::Dynamic>')\n",
      "cout << dmat << endl;\n",
      "~~~~ ^  ~~~~\n",
      "/opt/conda/bin/../lib/gcc/../../x86_64-conda-linux-gnu/include/c++/9.5.0/ostream:245:7: note: candidate function not viable: no known conversion from 'Eigen::DiagonalMatrix<double, Eigen::Dynamic>' to 'const void *' for 1st argument; take the address of the argument with &\n",
      "      operator<<(const void* __p)\n",
      "      ^\n",
      "/opt/conda/bin/../lib/gcc/../../x86_64-conda-linux-gnu/include/c++/9.5.0/system_error:217:5: note: candidate function not viable: no known conversion from 'Eigen::DiagonalMatrix<double, Eigen::Dynamic>' to 'const std::error_code' for 2nd argument\n",
      "    operator<<(basic_ostream<_CharT, _Traits>& __os, const error_code& __e)\n",
      "    ^\n",
      "/opt/conda/bin/../lib/gcc/../../x86_64-conda-linux-gnu/include/c++/9.5.0/ostream:108:7: note: candidate function not viable: no known conversion from 'Eigen::DiagonalMatrix<double, Eigen::Dynamic>' to 'std::basic_ostream<char, std::char_traits<char> >::__ostream_type &(*)(std::basic_ostream<char, std::char_traits<char> >::__ostream_type &)' (aka 'basic_ostream<char, std::char_traits<char> > &(*)(basic_ostream<char, std::char_traits<char> > &)') for 1st argument\n",
      "      operator<<(__ostream_type& (*__pf)(__ostream_type&))\n",
      "      ^\n",
      "/opt/conda/bin/../lib/gcc/../../x86_64-conda-linux-gnu/include/c++/9.5.0/ostream:117:7: note: candidate function not viable: no known conversion from 'Eigen::DiagonalMatrix<double, Eigen::Dynamic>' to 'std::basic_ostream<char, std::char_traits<char> >::__ios_type &(*)(std::basic_ostream<char, std::char_traits<char> >::__ios_type &)' (aka 'basic_ios<char, std::char_traits<char> > &(*)(basic_ios<char, std::char_traits<char> > &)') for 1st argument\n",
      "      operator<<(__ios_type& (*__pf)(__ios_type&))\n",
      "      ^\n",
      "/opt/conda/bin/../lib/gcc/../../x86_64-conda-linux-gnu/include/c++/9.5.0/ostream:127:7: note: candidate function not viable: no known conversion from 'Eigen::DiagonalMatrix<double, Eigen::Dynamic>' to 'std::ios_base &(*)(std::ios_base &)' for 1st argument\n",
      "      operator<<(ios_base& (*__pf) (ios_base&))\n",
      "      ^\n",
      "/opt/conda/bin/../lib/gcc/../../x86_64-conda-linux-gnu/include/c++/9.5.0/ostream:166:7: note: candidate function not viable: no known conversion from 'Eigen::DiagonalMatrix<double, Eigen::Dynamic>' to 'long' for 1st argument\n",
      "      operator<<(long __n)\n",
      "      ^\n",
      "/opt/conda/bin/../lib/gcc/../../x86_64-conda-linux-gnu/include/c++/9.5.0/ostream:170:7: note: candidate function not viable: no known conversion from 'Eigen::DiagonalMatrix<double, Eigen::Dynamic>' to 'unsigned long' for 1st argument\n",
      "      operator<<(unsigned long __n)\n",
      "      ^\n",
      "/opt/conda/bin/../lib/gcc/../../x86_64-conda-linux-gnu/include/c++/9.5.0/ostream:174:7: note: candidate function not viable: no known conversion from 'Eigen::DiagonalMatrix<double, Eigen::Dynamic>' to 'bool' for 1st argument\n",
      "      operator<<(bool __n)\n",
      "      ^\n",
      "/opt/conda/bin/../lib/gcc/../../x86_64-conda-linux-gnu/include/c++/9.5.0/ostream:178:7: note: candidate function not viable: no known conversion from 'Eigen::DiagonalMatrix<double, Eigen::Dynamic>' to 'short' for 1st argument\n",
      "      operator<<(short __n);\n",
      "      ^\n",
      "/opt/conda/bin/../lib/gcc/../../x86_64-conda-linux-gnu/include/c++/9.5.0/ostream:181:7: note: candidate function not viable: no known conversion from 'Eigen::DiagonalMatrix<double, Eigen::Dynamic>' to 'unsigned short' for 1st argument\n",
      "      operator<<(unsigned short __n)\n",
      "      ^\n",
      "/opt/conda/bin/../lib/gcc/../../x86_64-conda-linux-gnu/include/c++/9.5.0/ostream:189:7: note: candidate function not viable: no known conversion from 'Eigen::DiagonalMatrix<double, Eigen::Dynamic>' to 'int' for 1st argument\n",
      "      operator<<(int __n);\n",
      "      ^\n",
      "/opt/conda/bin/../lib/gcc/../../x86_64-conda-linux-gnu/include/c++/9.5.0/ostream:192:7: note: candidate function not viable: no known conversion from 'Eigen::DiagonalMatrix<double, Eigen::Dynamic>' to 'unsigned int' for 1st argument\n",
      "      operator<<(unsigned int __n)\n",
      "      ^\n",
      "/opt/conda/bin/../lib/gcc/../../x86_64-conda-linux-gnu/include/c++/9.5.0/ostream:201:7: note: candidate function not viable: no known conversion from 'Eigen::DiagonalMatrix<double, Eigen::Dynamic>' to 'long long' for 1st argument\n",
      "      operator<<(long long __n)\n",
      "      ^\n",
      "/opt/conda/bin/../lib/gcc/../../x86_64-conda-linux-gnu/include/c++/9.5.0/ostream:205:7: note: candidate function not viable: no known conversion from 'Eigen::DiagonalMatrix<double, Eigen::Dynamic>' to 'unsigned long long' for 1st argument\n",
      "      operator<<(unsigned long long __n)\n",
      "      ^\n",
      "/opt/conda/bin/../lib/gcc/../../x86_64-conda-linux-gnu/include/c++/9.5.0/ostream:220:7: note: candidate function not viable: no known conversion from 'Eigen::DiagonalMatrix<double, Eigen::Dynamic>' to 'double' for 1st argument\n",
      "      operator<<(double __f)\n",
      "      ^\n",
      "/opt/conda/bin/../lib/gcc/../../x86_64-conda-linux-gnu/include/c++/9.5.0/ostream:224:7: note: candidate function not viable: no known conversion from 'Eigen::DiagonalMatrix<double, Eigen::Dynamic>' to 'float' for 1st argument\n",
      "      operator<<(float __f)\n",
      "      ^\n",
      "/opt/conda/bin/../lib/gcc/../../x86_64-conda-linux-gnu/include/c++/9.5.0/ostream:232:7: note: candidate function not viable: no known conversion from 'Eigen::DiagonalMatrix<double, Eigen::Dynamic>' to 'long double' for 1st argument\n",
      "      operator<<(long double __f)\n",
      "      ^\n",
      "/opt/conda/bin/../lib/gcc/../../x86_64-conda-linux-gnu/include/c++/9.5.0/ostream:276:7: note: candidate function not viable: no known conversion from 'Eigen::DiagonalMatrix<double, Eigen::Dynamic>' to 'std::basic_ostream<char, std::char_traits<char> >::__streambuf_type *' (aka 'basic_streambuf<char, std::char_traits<char> > *') for 1st argument\n",
      "      operator<<(__streambuf_type* __sb);\n",
      "      ^\n",
      "/opt/conda/bin/../lib/gcc/../../x86_64-conda-linux-gnu/include/c++/9.5.0/ostream:511:5: note: candidate function not viable: no known conversion from 'Eigen::DiagonalMatrix<double, Eigen::Dynamic>' to 'char' for 2nd argument\n",
      "    operator<<(basic_ostream<_CharT, _Traits>& __out, char __c)\n",
      "    ^\n",
      "/opt/conda/bin/../lib/gcc/../../x86_64-conda-linux-gnu/include/c++/9.5.0/ostream:517:5: note: candidate function not viable: no known conversion from 'Eigen::DiagonalMatrix<double, Eigen::Dynamic>' to 'char' for 2nd argument\n",
      "    operator<<(basic_ostream<char, _Traits>& __out, char __c)\n",
      "    ^\n",
      "/opt/conda/bin/../lib/gcc/../../x86_64-conda-linux-gnu/include/c++/9.5.0/ostream:523:5: note: candidate function not viable: no known conversion from 'Eigen::DiagonalMatrix<double, Eigen::Dynamic>' to 'signed char' for 2nd argument\n",
      "    operator<<(basic_ostream<char, _Traits>& __out, signed char __c)\n",
      "    ^\n",
      "/opt/conda/bin/../lib/gcc/../../x86_64-conda-linux-gnu/include/c++/9.5.0/ostream:528:5: note: candidate function not viable: no known conversion from 'Eigen::DiagonalMatrix<double, Eigen::Dynamic>' to 'unsigned char' for 2nd argument\n",
      "    operator<<(basic_ostream<char, _Traits>& __out, unsigned char __c)\n",
      "    ^\n",
      "/opt/conda/bin/../lib/gcc/../../x86_64-conda-linux-gnu/include/c++/9.5.0/ostream:565:5: note: candidate function not viable: no known conversion from 'Eigen::DiagonalMatrix<double, Eigen::Dynamic>' to 'const char *' for 2nd argument\n",
      "    operator<<(basic_ostream<char, _Traits>& __out, const char* __s)\n",
      "    ^\n",
      "/opt/conda/bin/../lib/gcc/../../x86_64-conda-linux-gnu/include/c++/9.5.0/ostream:578:5: note: candidate function not viable: no known conversion from 'Eigen::DiagonalMatrix<double, Eigen::Dynamic>' to 'const signed char *' for 2nd argument\n",
      "    operator<<(basic_ostream<char, _Traits>& __out, const signed char* __s)\n",
      "    ^\n",
      "/opt/conda/bin/../lib/gcc/../../x86_64-conda-linux-gnu/include/c++/9.5.0/ostream:583:5: note: candidate function not viable: no known conversion from 'Eigen::DiagonalMatrix<double, Eigen::Dynamic>' to 'const unsigned char *' for 2nd argument\n",
      "    operator<<(basic_ostream<char, _Traits>& __out, const unsigned char* __s)\n",
      "    ^\n",
      "/opt/conda/bin/../lib/gcc/../../x86_64-conda-linux-gnu/include/c++/9.5.0/bits/ostream.tcc:321:5: note: candidate function not viable: no known conversion from 'Eigen::DiagonalMatrix<double, Eigen::Dynamic>' to 'const char *' for 2nd argument\n",
      "    operator<<(basic_ostream<_CharT, _Traits>& __out, const char* __s)\n",
      "    ^\n",
      "/opt/conda/bin/../lib/gcc/../../x86_64-conda-linux-gnu/include/c++/9.5.0/ostream:506:5: note: candidate template ignored: deduced conflicting types for parameter '_CharT' ('char' vs. 'Eigen::DiagonalMatrix<double, -1, -1>')\n",
      "    operator<<(basic_ostream<_CharT, _Traits>& __out, _CharT __c)\n",
      "    ^\n",
      "/opt/conda/bin/../lib/gcc/../../x86_64-conda-linux-gnu/include/c++/9.5.0/bits/basic_string.h:6424:5: note: candidate template ignored: could not match 'basic_string' against 'DiagonalMatrix'\n",
      "    operator<<(basic_ostream<_CharT, _Traits>& __os,\n",
      "    ^\n",
      "/opt/conda/bin/../lib/gcc/../../x86_64-conda-linux-gnu/include/c++/9.5.0/ostream:548:5: note: candidate template ignored: could not match 'const _CharT *' against 'Eigen::DiagonalMatrix<double, Eigen::Dynamic>'\n",
      "    operator<<(basic_ostream<_CharT, _Traits>& __out, const _CharT* __s)\n",
      "    ^\n",
      "/opt/conda/bin/../lib/gcc/../../x86_64-conda-linux-gnu/include/c++/9.5.0/bits/shared_ptr.h:66:5: note: candidate template ignored: could not match '__shared_ptr' against 'DiagonalMatrix'\n",
      "    operator<<(std::basic_ostream<_Ch, _Tr>& __os,\n",
      "    ^\n",
      "/opt/conda/bin/../lib/gcc/../../x86_64-conda-linux-gnu/include/c++/9.5.0/bits/valarray_after.h:413:5: note: candidate template ignored: could not match '_Expr' against 'basic_ostream'\n",
      "    _DEFINE_EXPR_BINARY_OPERATOR(<<, __shift_left)\n",
      "    ^\n",
      "/opt/conda/bin/../lib/gcc/../../x86_64-conda-linux-gnu/include/c++/9.5.0/bits/valarray_after.h:344:5: note: expanded from macro '_DEFINE_EXPR_BINARY_OPERATOR'\n",
      "    operator _Op(const _Expr<_Dom1, typename _Dom1::value_type>& __v,   \\\n",
      "    ^\n",
      "/opt/conda/bin/../lib/gcc/../../x86_64-conda-linux-gnu/include/c++/9.5.0/bits/valarray_after.h:413:5: note: candidate template ignored: could not match '_Expr' against 'basic_ostream'\n",
      "/opt/conda/bin/../lib/gcc/../../x86_64-conda-linux-gnu/include/c++/9.5.0/bits/valarray_after.h:357:5: note: expanded from macro '_DEFINE_EXPR_BINARY_OPERATOR'\n",
      "    operator _Op(const _Expr<_Dom, typename _Dom::value_type>& __v,     \\\n",
      "    ^\n",
      "/opt/conda/bin/../lib/gcc/../../x86_64-conda-linux-gnu/include/c++/9.5.0/bits/valarray_after.h:413:5: note: candidate template ignored: could not match '_Expr' against 'DiagonalMatrix'\n",
      "/opt/conda/bin/../lib/gcc/../../x86_64-conda-linux-gnu/include/c++/9.5.0/bits/valarray_after.h:370:5: note: expanded from macro '_DEFINE_EXPR_BINARY_OPERATOR'\n",
      "    operator _Op(const typename _Dom::value_type& __t,                  \\\n",
      "    ^\n",
      "/opt/conda/bin/../lib/gcc/../../x86_64-conda-linux-gnu/include/c++/9.5.0/bits/valarray_after.h:413:5: note: candidate template ignored: could not match '_Expr' against 'basic_ostream'\n",
      "/opt/conda/bin/../lib/gcc/../../x86_64-conda-linux-gnu/include/c++/9.5.0/bits/valarray_after.h:383:5: note: expanded from macro '_DEFINE_EXPR_BINARY_OPERATOR'\n",
      "    operator _Op(const _Expr<_Dom,typename _Dom::value_type>& __e,      \\\n",
      "    ^\n",
      "/opt/conda/bin/../lib/gcc/../../x86_64-conda-linux-gnu/include/c++/9.5.0/bits/valarray_after.h:413:5: note: candidate template ignored: could not match '_Expr' against 'DiagonalMatrix'\n",
      "/opt/conda/bin/../lib/gcc/../../x86_64-conda-linux-gnu/include/c++/9.5.0/bits/valarray_after.h:396:5: note: expanded from macro '_DEFINE_EXPR_BINARY_OPERATOR'\n",
      "    operator _Op(const valarray<typename _Dom::value_type>& __v,        \\\n",
      "    ^\n",
      "/opt/conda/bin/../lib/gcc/../../x86_64-conda-linux-gnu/include/c++/9.5.0/valarray:1193:1: note: candidate template ignored: could not match 'valarray' against 'basic_ostream'\n",
      "_DEFINE_BINARY_OPERATOR(<<, __shift_left)\n",
      "^\n",
      "/opt/conda/bin/../lib/gcc/../../x86_64-conda-linux-gnu/include/c++/9.5.0/valarray:1155:5: note: expanded from macro '_DEFINE_BINARY_OPERATOR'\n",
      "    operator _Op(const valarray<_Tp>& __v, const valarray<_Tp>& __w)    \\\n",
      "    ^\n",
      "/opt/conda/bin/../lib/gcc/../../x86_64-conda-linux-gnu/include/c++/9.5.0/valarray:1193:1: note: candidate template ignored: could not match 'valarray' against 'basic_ostream'\n",
      "/opt/conda/bin/../lib/gcc/../../x86_64-conda-linux-gnu/include/c++/9.5.0/valarray:1166:5: note: expanded from macro '_DEFINE_BINARY_OPERATOR'\n",
      "    operator _Op(const valarray<_Tp>& __v,                              \\\n",
      "    ^\n",
      "/opt/conda/bin/../lib/gcc/../../x86_64-conda-linux-gnu/include/c++/9.5.0/valarray:1193:1: note: candidate template ignored: could not match 'valarray' against 'DiagonalMatrix'\n",
      "/opt/conda/bin/../lib/gcc/../../x86_64-conda-linux-gnu/include/c++/9.5.0/valarray:1177:5: note: expanded from macro '_DEFINE_BINARY_OPERATOR'\n",
      "    operator _Op(const typename valarray<_Tp>::value_type& __t,         \\\n",
      "    ^\n",
      "/opt/conda/bin/../lib/gcc/../../x86_64-conda-linux-gnu/include/c++/9.5.0/complex:552:5: note: candidate template ignored: could not match 'complex' against 'DiagonalMatrix'\n",
      "    operator<<(basic_ostream<_CharT, _Traits>& __os, const complex<_Tp>& __x)\n",
      "    ^\n",
      "/opt/conda/bin/../lib/gcc/../../x86_64-conda-linux-gnu/include/c++/9.5.0/ostream:691:5: note: candidate template ignored: requirement '__and_<__not_<is_lvalue_reference<basic_ostream<char> &> >, __is_convertible_to_basic_ostream<basic_ostream<char> &>, __is_insertable<__rvalue_ostream_type<basic_ostream<char> &>, const DiagonalMatrix<double, -1, -1> &> >::value' was not satisfied [with _Ostream = std::basic_ostream<char> &, _Tp = Eigen::DiagonalMatrix<double, -1, -1>]\n",
      "    operator<<(_Ostream&& __os, const _Tp& __x)\n",
      "    ^\n",
      "/workspaces/gconcord/eigen-3.4.0/Eigen/src/Core/IO.h:249:16: note: candidate template ignored: could not match 'DenseBase' against 'DiagonalMatrix'\n",
      "std::ostream & operator <<\n",
      "               ^\n"
     ]
    },
    {
     "ename": "Interpreter Error",
     "evalue": "",
     "output_type": "error",
     "traceback": [
      "Interpreter Error: "
     ]
    }
   ],
   "source": [
    "Eigen::DiagonalMatrix<double, Eigen::Dynamic> dmat;\n",
    "cout << dmat << endl;"
   ]
  },
  {
   "cell_type": "code",
   "execution_count": null,
   "id": "9f29eb55",
   "metadata": {
    "vscode": {
     "languageId": "c++"
    }
   },
   "outputs": [
    {
     "name": "stdout",
     "output_type": "stream",
     "text": [
      "270.254       0       0\n",
      "      0 546.324       0\n",
      "      0       0 274.803\n"
     ]
    }
   ],
   "source": [
    "cout << dmat << endl;"
   ]
  },
  {
   "cell_type": "code",
   "execution_count": null,
   "id": "abbdac47",
   "metadata": {
    "vscode": {
     "languageId": "c++"
    }
   },
   "outputs": [],
   "source": []
  },
  {
   "cell_type": "code",
   "execution_count": null,
   "id": "64c91fd2",
   "metadata": {
    "vscode": {
     "languageId": "c++"
    }
   },
   "outputs": [
    {
     "name": "stderr",
     "output_type": "stream",
     "text": [
      "input_line_30:3:11: error: invalid operands to binary expression ('std::ostream' (aka 'basic_ostream<char>') and 'Eigen::DiagonalMatrix<double, Eigen::Dynamic>')\n",
      "std::cout << XdiagM << std::endl;\n",
      "~~~~~~~~~ ^  ~~~~~~\n",
      "/opt/conda/bin/../lib/gcc/../../x86_64-conda-linux-gnu/include/c++/9.5.0/ostream:245:7: note: candidate function not viable: no known conversion from 'Eigen::DiagonalMatrix<double, Eigen::Dynamic>' to 'const void *' for 1st argument; take the address of the argument with &\n",
      "      operator<<(const void* __p)\n",
      "      ^\n",
      "/opt/conda/bin/../lib/gcc/../../x86_64-conda-linux-gnu/include/c++/9.5.0/system_error:217:5: note: candidate function not viable: no known conversion from 'Eigen::DiagonalMatrix<double, Eigen::Dynamic>' to 'const std::error_code' for 2nd argument\n",
      "    operator<<(basic_ostream<_CharT, _Traits>& __os, const error_code& __e)\n",
      "    ^\n",
      "/opt/conda/bin/../lib/gcc/../../x86_64-conda-linux-gnu/include/c++/9.5.0/ostream:108:7: note: candidate function not viable: no known conversion from 'Eigen::DiagonalMatrix<double, Eigen::Dynamic>' to 'std::basic_ostream<char, std::char_traits<char> >::__ostream_type &(*)(std::basic_ostream<char, std::char_traits<char> >::__ostream_type &)' (aka 'basic_ostream<char, std::char_traits<char> > &(*)(basic_ostream<char, std::char_traits<char> > &)') for 1st argument\n",
      "      operator<<(__ostream_type& (*__pf)(__ostream_type&))\n",
      "      ^\n",
      "/opt/conda/bin/../lib/gcc/../../x86_64-conda-linux-gnu/include/c++/9.5.0/ostream:117:7: note: candidate function not viable: no known conversion from 'Eigen::DiagonalMatrix<double, Eigen::Dynamic>' to 'std::basic_ostream<char, std::char_traits<char> >::__ios_type &(*)(std::basic_ostream<char, std::char_traits<char> >::__ios_type &)' (aka 'basic_ios<char, std::char_traits<char> > &(*)(basic_ios<char, std::char_traits<char> > &)') for 1st argument\n",
      "      operator<<(__ios_type& (*__pf)(__ios_type&))\n",
      "      ^\n",
      "/opt/conda/bin/../lib/gcc/../../x86_64-conda-linux-gnu/include/c++/9.5.0/ostream:127:7: note: candidate function not viable: no known conversion from 'Eigen::DiagonalMatrix<double, Eigen::Dynamic>' to 'std::ios_base &(*)(std::ios_base &)' for 1st argument\n",
      "      operator<<(ios_base& (*__pf) (ios_base&))\n",
      "      ^\n",
      "/opt/conda/bin/../lib/gcc/../../x86_64-conda-linux-gnu/include/c++/9.5.0/ostream:166:7: note: candidate function not viable: no known conversion from 'Eigen::DiagonalMatrix<double, Eigen::Dynamic>' to 'long' for 1st argument\n",
      "      operator<<(long __n)\n",
      "      ^\n",
      "/opt/conda/bin/../lib/gcc/../../x86_64-conda-linux-gnu/include/c++/9.5.0/ostream:170:7: note: candidate function not viable: no known conversion from 'Eigen::DiagonalMatrix<double, Eigen::Dynamic>' to 'unsigned long' for 1st argument\n",
      "      operator<<(unsigned long __n)\n",
      "      ^\n",
      "/opt/conda/bin/../lib/gcc/../../x86_64-conda-linux-gnu/include/c++/9.5.0/ostream:174:7: note: candidate function not viable: no known conversion from 'Eigen::DiagonalMatrix<double, Eigen::Dynamic>' to 'bool' for 1st argument\n",
      "      operator<<(bool __n)\n",
      "      ^\n",
      "/opt/conda/bin/../lib/gcc/../../x86_64-conda-linux-gnu/include/c++/9.5.0/ostream:178:7: note: candidate function not viable: no known conversion from 'Eigen::DiagonalMatrix<double, Eigen::Dynamic>' to 'short' for 1st argument\n",
      "      operator<<(short __n);\n",
      "      ^\n",
      "/opt/conda/bin/../lib/gcc/../../x86_64-conda-linux-gnu/include/c++/9.5.0/ostream:181:7: note: candidate function not viable: no known conversion from 'Eigen::DiagonalMatrix<double, Eigen::Dynamic>' to 'unsigned short' for 1st argument\n",
      "      operator<<(unsigned short __n)\n",
      "      ^\n",
      "/opt/conda/bin/../lib/gcc/../../x86_64-conda-linux-gnu/include/c++/9.5.0/ostream:189:7: note: candidate function not viable: no known conversion from 'Eigen::DiagonalMatrix<double, Eigen::Dynamic>' to 'int' for 1st argument\n",
      "      operator<<(int __n);\n",
      "      ^\n",
      "/opt/conda/bin/../lib/gcc/../../x86_64-conda-linux-gnu/include/c++/9.5.0/ostream:192:7: note: candidate function not viable: no known conversion from 'Eigen::DiagonalMatrix<double, Eigen::Dynamic>' to 'unsigned int' for 1st argument\n",
      "      operator<<(unsigned int __n)\n",
      "      ^\n",
      "/opt/conda/bin/../lib/gcc/../../x86_64-conda-linux-gnu/include/c++/9.5.0/ostream:201:7: note: candidate function not viable: no known conversion from 'Eigen::DiagonalMatrix<double, Eigen::Dynamic>' to 'long long' for 1st argument\n",
      "      operator<<(long long __n)\n",
      "      ^\n",
      "/opt/conda/bin/../lib/gcc/../../x86_64-conda-linux-gnu/include/c++/9.5.0/ostream:205:7: note: candidate function not viable: no known conversion from 'Eigen::DiagonalMatrix<double, Eigen::Dynamic>' to 'unsigned long long' for 1st argument\n",
      "      operator<<(unsigned long long __n)\n",
      "      ^\n",
      "/opt/conda/bin/../lib/gcc/../../x86_64-conda-linux-gnu/include/c++/9.5.0/ostream:220:7: note: candidate function not viable: no known conversion from 'Eigen::DiagonalMatrix<double, Eigen::Dynamic>' to 'double' for 1st argument\n",
      "      operator<<(double __f)\n",
      "      ^\n",
      "/opt/conda/bin/../lib/gcc/../../x86_64-conda-linux-gnu/include/c++/9.5.0/ostream:224:7: note: candidate function not viable: no known conversion from 'Eigen::DiagonalMatrix<double, Eigen::Dynamic>' to 'float' for 1st argument\n",
      "      operator<<(float __f)\n",
      "      ^\n",
      "/opt/conda/bin/../lib/gcc/../../x86_64-conda-linux-gnu/include/c++/9.5.0/ostream:232:7: note: candidate function not viable: no known conversion from 'Eigen::DiagonalMatrix<double, Eigen::Dynamic>' to 'long double' for 1st argument\n",
      "      operator<<(long double __f)\n",
      "      ^\n",
      "/opt/conda/bin/../lib/gcc/../../x86_64-conda-linux-gnu/include/c++/9.5.0/ostream:276:7: note: candidate function not viable: no known conversion from 'Eigen::DiagonalMatrix<double, Eigen::Dynamic>' to 'std::basic_ostream<char, std::char_traits<char> >::__streambuf_type *' (aka 'basic_streambuf<char, std::char_traits<char> > *') for 1st argument\n",
      "      operator<<(__streambuf_type* __sb);\n",
      "      ^\n",
      "/opt/conda/bin/../lib/gcc/../../x86_64-conda-linux-gnu/include/c++/9.5.0/ostream:511:5: note: candidate function not viable: no known conversion from 'Eigen::DiagonalMatrix<double, Eigen::Dynamic>' to 'char' for 2nd argument\n",
      "    operator<<(basic_ostream<_CharT, _Traits>& __out, char __c)\n",
      "    ^\n",
      "/opt/conda/bin/../lib/gcc/../../x86_64-conda-linux-gnu/include/c++/9.5.0/ostream:517:5: note: candidate function not viable: no known conversion from 'Eigen::DiagonalMatrix<double, Eigen::Dynamic>' to 'char' for 2nd argument\n",
      "    operator<<(basic_ostream<char, _Traits>& __out, char __c)\n",
      "    ^\n",
      "/opt/conda/bin/../lib/gcc/../../x86_64-conda-linux-gnu/include/c++/9.5.0/ostream:523:5: note: candidate function not viable: no known conversion from 'Eigen::DiagonalMatrix<double, Eigen::Dynamic>' to 'signed char' for 2nd argument\n",
      "    operator<<(basic_ostream<char, _Traits>& __out, signed char __c)\n",
      "    ^\n",
      "/opt/conda/bin/../lib/gcc/../../x86_64-conda-linux-gnu/include/c++/9.5.0/ostream:528:5: note: candidate function not viable: no known conversion from 'Eigen::DiagonalMatrix<double, Eigen::Dynamic>' to 'unsigned char' for 2nd argument\n",
      "    operator<<(basic_ostream<char, _Traits>& __out, unsigned char __c)\n",
      "    ^\n",
      "/opt/conda/bin/../lib/gcc/../../x86_64-conda-linux-gnu/include/c++/9.5.0/ostream:565:5: note: candidate function not viable: no known conversion from 'Eigen::DiagonalMatrix<double, Eigen::Dynamic>' to 'const char *' for 2nd argument\n",
      "    operator<<(basic_ostream<char, _Traits>& __out, const char* __s)\n",
      "    ^\n",
      "/opt/conda/bin/../lib/gcc/../../x86_64-conda-linux-gnu/include/c++/9.5.0/ostream:578:5: note: candidate function not viable: no known conversion from 'Eigen::DiagonalMatrix<double, Eigen::Dynamic>' to 'const signed char *' for 2nd argument\n",
      "    operator<<(basic_ostream<char, _Traits>& __out, const signed char* __s)\n",
      "    ^\n",
      "/opt/conda/bin/../lib/gcc/../../x86_64-conda-linux-gnu/include/c++/9.5.0/ostream:583:5: note: candidate function not viable: no known conversion from 'Eigen::DiagonalMatrix<double, Eigen::Dynamic>' to 'const unsigned char *' for 2nd argument\n",
      "    operator<<(basic_ostream<char, _Traits>& __out, const unsigned char* __s)\n",
      "    ^\n",
      "/opt/conda/bin/../lib/gcc/../../x86_64-conda-linux-gnu/include/c++/9.5.0/bits/ostream.tcc:321:5: note: candidate function not viable: no known conversion from 'Eigen::DiagonalMatrix<double, Eigen::Dynamic>' to 'const char *' for 2nd argument\n",
      "    operator<<(basic_ostream<_CharT, _Traits>& __out, const char* __s)\n",
      "    ^\n",
      "/opt/conda/bin/../lib/gcc/../../x86_64-conda-linux-gnu/include/c++/9.5.0/ostream:506:5: note: candidate template ignored: deduced conflicting types for parameter '_CharT' ('char' vs. 'Eigen::DiagonalMatrix<double, -1, -1>')\n",
      "    operator<<(basic_ostream<_CharT, _Traits>& __out, _CharT __c)\n",
      "    ^\n",
      "/opt/conda/bin/../lib/gcc/../../x86_64-conda-linux-gnu/include/c++/9.5.0/bits/basic_string.h:6424:5: note: candidate template ignored: could not match 'basic_string' against 'DiagonalMatrix'\n",
      "    operator<<(basic_ostream<_CharT, _Traits>& __os,\n",
      "    ^\n",
      "/opt/conda/bin/../lib/gcc/../../x86_64-conda-linux-gnu/include/c++/9.5.0/ostream:548:5: note: candidate template ignored: could not match 'const _CharT *' against 'Eigen::DiagonalMatrix<double, Eigen::Dynamic>'\n",
      "    operator<<(basic_ostream<_CharT, _Traits>& __out, const _CharT* __s)\n",
      "    ^\n",
      "/opt/conda/bin/../lib/gcc/../../x86_64-conda-linux-gnu/include/c++/9.5.0/bits/shared_ptr.h:66:5: note: candidate template ignored: could not match '__shared_ptr' against 'DiagonalMatrix'\n",
      "    operator<<(std::basic_ostream<_Ch, _Tr>& __os,\n",
      "    ^\n",
      "/opt/conda/bin/../lib/gcc/../../x86_64-conda-linux-gnu/include/c++/9.5.0/bits/valarray_after.h:413:5: note: candidate template ignored: could not match '_Expr' against 'basic_ostream'\n",
      "    _DEFINE_EXPR_BINARY_OPERATOR(<<, __shift_left)\n",
      "    ^\n",
      "/opt/conda/bin/../lib/gcc/../../x86_64-conda-linux-gnu/include/c++/9.5.0/bits/valarray_after.h:344:5: note: expanded from macro '_DEFINE_EXPR_BINARY_OPERATOR'\n",
      "    operator _Op(const _Expr<_Dom1, typename _Dom1::value_type>& __v,   \\\n",
      "    ^\n",
      "/opt/conda/bin/../lib/gcc/../../x86_64-conda-linux-gnu/include/c++/9.5.0/bits/valarray_after.h:413:5: note: candidate template ignored: could not match '_Expr' against 'basic_ostream'\n",
      "/opt/conda/bin/../lib/gcc/../../x86_64-conda-linux-gnu/include/c++/9.5.0/bits/valarray_after.h:357:5: note: expanded from macro '_DEFINE_EXPR_BINARY_OPERATOR'\n",
      "    operator _Op(const _Expr<_Dom, typename _Dom::value_type>& __v,     \\\n",
      "    ^\n",
      "/opt/conda/bin/../lib/gcc/../../x86_64-conda-linux-gnu/include/c++/9.5.0/bits/valarray_after.h:413:5: note: candidate template ignored: could not match '_Expr' against 'DiagonalMatrix'\n",
      "/opt/conda/bin/../lib/gcc/../../x86_64-conda-linux-gnu/include/c++/9.5.0/bits/valarray_after.h:370:5: note: expanded from macro '_DEFINE_EXPR_BINARY_OPERATOR'\n",
      "    operator _Op(const typename _Dom::value_type& __t,                  \\\n",
      "    ^\n",
      "/opt/conda/bin/../lib/gcc/../../x86_64-conda-linux-gnu/include/c++/9.5.0/bits/valarray_after.h:413:5: note: candidate template ignored: could not match '_Expr' against 'basic_ostream'\n",
      "/opt/conda/bin/../lib/gcc/../../x86_64-conda-linux-gnu/include/c++/9.5.0/bits/valarray_after.h:383:5: note: expanded from macro '_DEFINE_EXPR_BINARY_OPERATOR'\n",
      "    operator _Op(const _Expr<_Dom,typename _Dom::value_type>& __e,      \\\n",
      "    ^\n",
      "/opt/conda/bin/../lib/gcc/../../x86_64-conda-linux-gnu/include/c++/9.5.0/bits/valarray_after.h:413:5: note: candidate template ignored: could not match '_Expr' against 'DiagonalMatrix'\n",
      "/opt/conda/bin/../lib/gcc/../../x86_64-conda-linux-gnu/include/c++/9.5.0/bits/valarray_after.h:396:5: note: expanded from macro '_DEFINE_EXPR_BINARY_OPERATOR'\n",
      "    operator _Op(const valarray<typename _Dom::value_type>& __v,        \\\n",
      "    ^\n",
      "/opt/conda/bin/../lib/gcc/../../x86_64-conda-linux-gnu/include/c++/9.5.0/valarray:1193:1: note: candidate template ignored: could not match 'valarray' against 'basic_ostream'\n",
      "_DEFINE_BINARY_OPERATOR(<<, __shift_left)\n",
      "^\n",
      "/opt/conda/bin/../lib/gcc/../../x86_64-conda-linux-gnu/include/c++/9.5.0/valarray:1155:5: note: expanded from macro '_DEFINE_BINARY_OPERATOR'\n",
      "    operator _Op(const valarray<_Tp>& __v, const valarray<_Tp>& __w)    \\\n",
      "    ^\n",
      "/opt/conda/bin/../lib/gcc/../../x86_64-conda-linux-gnu/include/c++/9.5.0/valarray:1193:1: note: candidate template ignored: could not match 'valarray' against 'basic_ostream'\n",
      "/opt/conda/bin/../lib/gcc/../../x86_64-conda-linux-gnu/include/c++/9.5.0/valarray:1166:5: note: expanded from macro '_DEFINE_BINARY_OPERATOR'\n",
      "    operator _Op(const valarray<_Tp>& __v,                              \\\n",
      "    ^\n",
      "/opt/conda/bin/../lib/gcc/../../x86_64-conda-linux-gnu/include/c++/9.5.0/valarray:1193:1: note: candidate template ignored: could not match 'valarray' against 'DiagonalMatrix'\n",
      "/opt/conda/bin/../lib/gcc/../../x86_64-conda-linux-gnu/include/c++/9.5.0/valarray:1177:5: note: expanded from macro '_DEFINE_BINARY_OPERATOR'\n",
      "    operator _Op(const typename valarray<_Tp>::value_type& __t,         \\\n",
      "    ^\n",
      "/opt/conda/bin/../lib/gcc/../../x86_64-conda-linux-gnu/include/c++/9.5.0/complex:552:5: note: candidate template ignored: could not match 'complex' against 'DiagonalMatrix'\n",
      "    operator<<(basic_ostream<_CharT, _Traits>& __os, const complex<_Tp>& __x)\n",
      "    ^\n",
      "/opt/conda/bin/../lib/gcc/../../x86_64-conda-linux-gnu/include/c++/9.5.0/ostream:691:5: note: candidate template ignored: requirement '__and_<__not_<is_lvalue_reference<basic_ostream<char> &> >, __is_convertible_to_basic_ostream<basic_ostream<char> &>, __is_insertable<__rvalue_ostream_type<basic_ostream<char> &>, const DiagonalMatrix<double, -1, -1> &> >::value' was not satisfied [with _Ostream = std::basic_ostream<char> &, _Tp = Eigen::DiagonalMatrix<double, -1, -1>]\n",
      "    operator<<(_Ostream&& __os, const _Tp& __x)\n",
      "    ^\n",
      "/workspaces/gconcord/eigen-3.4.0/Eigen/src/Core/IO.h:249:16: note: candidate template ignored: could not match 'DenseBase' against 'DiagonalMatrix'\n",
      "std::ostream & operator <<\n",
      "               ^\n"
     ]
    },
    {
     "ename": "Interpreter Error",
     "evalue": "",
     "output_type": "error",
     "traceback": [
      "Interpreter Error: "
     ]
    }
   ],
   "source": [
    "Eigen::DiagonalMatrix<double, Eigen::Dynamic> XdiagM(3);\n",
    "std::cout << XdiagM << std::endl;"
   ]
  }
 ],
 "metadata": {
  "kernelspec": {
   "display_name": "C++11",
   "language": "C++11",
   "name": "xcpp11"
  },
  "language_info": {
   "codemirror_mode": "text/x-c++src",
   "file_extension": ".cpp",
   "mimetype": "text/x-c++src",
   "name": "C++11",
   "version": "11"
  }
 },
 "nbformat": 4,
 "nbformat_minor": 5
}
