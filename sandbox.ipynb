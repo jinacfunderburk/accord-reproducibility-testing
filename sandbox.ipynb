{
 "cells": [
  {
   "cell_type": "code",
   "execution_count": 1,
   "id": "e44c6bda-574a-4102-a8cf-8b7168de426d",
   "metadata": {},
   "outputs": [],
   "source": [
    "#pragma cling add_include_path(\"/workspaces/gconcord/eigen-3.4.0\")\n",
    "\n",
    "#include <iostream>\n",
    "#include <Eigen/Dense>\n",
    "#include <Eigen/Sparse>\n",
    "\n",
    "using namespace std;"
   ]
  },
  {
   "cell_type": "code",
   "execution_count": 2,
   "id": "13ea5e0b-54a1-490b-b322-29e0f039e18c",
   "metadata": {},
   "outputs": [
    {
     "name": "stdout",
     "output_type": "stream",
     "text": [
      "1 0 0\n",
      "0 1 0\n",
      "0 0 1\n",
      "0 0 0\n"
     ]
    }
   ],
   "source": [
    "cout << Eigen::MatrixXd::Identity(4, 3) << endl;"
   ]
  },
  {
   "cell_type": "code",
   "execution_count": 3,
   "id": "59b99cce",
   "metadata": {},
   "outputs": [
    {
     "name": "stdout",
     "output_type": "stream",
     "text": [
      " 8.37445 -11.5777  8.12897\n",
      "-11.5777  16.6212 -11.6627\n",
      " 8.12897 -11.6627  8.52675\n"
     ]
    }
   ],
   "source": [
    "Eigen::MatrixXd S(3, 3);\n",
    "S << 8.37445101, -11.57766349,   8.12897005, -11.57766349, 16.62120995, -11.66265577,   8.12897005, -11.66265577, 8.52675233;\n",
    "cout << S << endl;\n",
    "\n",
    "double lambda2 = 0.0;\n",
    "double epstol = 1e-5;\n",
    "int maxitr = 100;\n",
    "int steptype = 1;"
   ]
  },
  {
   "cell_type": "code",
   "execution_count": 4,
   "id": "544bfbe3",
   "metadata": {},
   "outputs": [],
   "source": [
    "int p = S.cols()"
   ]
  },
  {
   "cell_type": "code",
   "execution_count": 5,
   "id": "9595c7eb",
   "metadata": {},
   "outputs": [
    {
     "name": "stdout",
     "output_type": "stream",
     "text": [
      "16.7612\n"
     ]
    }
   ],
   "source": [
    "Eigen::SparseMatrix<double> X(p, p);\n",
    "X.setIdentity();\n",
    "Eigen::SparseMatrix<double> Xn(p, p);\n",
    "Eigen::DiagonalMatrix<double, Eigen::Dynamic> XdiagM(p);\n",
    "Eigen::SparseMatrix<double> Step;\n",
    "Eigen::MatrixXd W = S * X;\n",
    "Eigen::MatrixXd Wn(p, p);\n",
    "Eigen::MatrixXd G(p, p);\n",
    "Eigen::MatrixXd Gn(p, p);\n",
    "Eigen::MatrixXd subg(p, p);\n",
    "Eigen::MatrixXd tmp(p, p);\n",
    "\n",
    "double h = - X.diagonal().array().log().sum() + 0.5 * ((X*W).diagonal().sum()) + (lambda2 * pow(X.norm(), 2));\n",
    "\n",
    "std::cout << h << std::endl;"
   ]
  },
  {
   "cell_type": "code",
   "execution_count": 7,
   "id": "54b78f48",
   "metadata": {},
   "outputs": [
    {
     "name": "stdout",
     "output_type": "stream",
     "text": [
      "1\n",
      "1\n",
      "1\n"
     ]
    }
   ],
   "source": [
    "cout << X.diagonal().array().log().sum() << endl;"
   ]
  },
  {
   "cell_type": "code",
   "execution_count": 11,
   "id": "672d889c-6652-4bf4-9d8b-bfc0909a9309",
   "metadata": {},
   "outputs": [
    {
     "name": "stdout",
     "output_type": "stream",
     "text": [
      "8.37445\n",
      "16.6212\n",
      "8.52675\n"
     ]
    }
   ],
   "source": [
    "cout << (X*W).diagonal() << endl;"
   ]
  },
  {
   "cell_type": "code",
   "execution_count": null,
   "id": "f3618632-8e08-4b8e-b254-37156d299b5d",
   "metadata": {},
   "outputs": [],
   "source": [
    "Eigen::SparseMatrix<double> m(4,3)"
   ]
  }
 ],
 "metadata": {
  "kernelspec": {
   "display_name": "C++11",
   "language": "C++11",
   "name": "xcpp11"
  },
  "language_info": {
   "codemirror_mode": "text/x-c++src",
   "file_extension": ".cpp",
   "mimetype": "text/x-c++src",
   "name": "c++",
   "version": "11"
  }
 },
 "nbformat": 4,
 "nbformat_minor": 5
}
