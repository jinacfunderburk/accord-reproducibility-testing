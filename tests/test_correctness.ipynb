{
 "cells": [
  {
   "cell_type": "code",
   "execution_count": 1,
   "metadata": {},
   "outputs": [],
   "source": [
    "%load_ext autoreload\n",
    "%autoreload 3\n",
    "\n",
    "# import gconcord as cc\n",
    "import gconcorde as cce\n",
    "import numpy as np\n",
    "\n",
    "np.random.seed(3)\n",
    "\n",
    "# true precision matrix\n",
    "omega = np.zeros((3,3), order=\"C\")\n",
    "omega[0, 1] = 2.1\n",
    "omega[1, 2] = -2.1\n",
    "omega += omega.T\n",
    "np.fill_diagonal(omega, 3)\n",
    "\n",
    "# true covariance matrix\n",
    "sigma = np.linalg.inv(omega)\n",
    "\n",
    "# observations\n",
    "data = np.random.multivariate_normal([0]*3, sigma, 500)\n",
    "\n",
    "# sample covariance matrix\n",
    "S = np.cov(data, rowvar=False)"
   ]
  },
  {
   "cell_type": "code",
   "execution_count": 2,
   "metadata": {},
   "outputs": [
    {
     "name": "stdout",
     "output_type": "stream",
     "text": [
      "omega_hat:\n",
      " [[ 1.22892494  0.74147241  0.        ]\n",
      " [ 0.74147241  0.93796959 -0.74109093]\n",
      " [ 0.         -0.74109093  1.23125868]]\n",
      "\n",
      "hist: (inner_iter_count, delta_subg, objective)\n",
      " [[4.00000000e+00 1.32622757e-07 2.22879809e+00]\n",
      " [3.00000000e+00 2.05221286e-07 2.22879809e+00]\n",
      " [5.00000000e+00 7.16891848e-08 2.22879809e+00]]\n",
      "\n",
      "iterations: 110\n",
      "successive norm diff: 7.168918e-08\n",
      "objective: 2.228798e+00\n"
     ]
    }
   ],
   "source": [
    "Omega_hat, hist = cce.pycceista(S, 0.3, epstol=1e-7, maxitr=500, penalize_diagonal=True)\n",
    "print(\"omega_hat:\\n %s\\n\" % (str(Omega_hat)))\n",
    "print(\"hist: (inner_iter_count, delta_subg, objective)\\n %s\\n\" % (str(hist[-3:])))\n",
    "print(\"iterations: %d\" % (len(hist)))\n",
    "print(\"successive norm diff: %e\" % (hist[-1,1]))\n",
    "print(\"objective: %e\" % (hist[-1,2]))"
   ]
  },
  {
   "cell_type": "code",
   "execution_count": 3,
   "metadata": {},
   "outputs": [
    {
     "name": "stdout",
     "output_type": "stream",
     "text": [
      "omega_hat:\n",
      " [[ 1.22892494  0.74147241  0.        ]\n",
      " [ 0.74147241  0.93796959 -0.74109093]\n",
      " [ 0.         -0.74109093  1.23125868]]\n",
      "\n",
      "hist: (inner_iter_count, delta_subg, objective)\n",
      " [[4.00000000e+00 1.32622757e-07 2.22879809e+00]\n",
      " [3.00000000e+00 2.05221286e-07 2.22879809e+00]\n",
      " [5.00000000e+00 7.16891847e-08 2.22879809e+00]]\n",
      "\n",
      "iterations: 110\n",
      "successive norm diff: 7.168918e-08\n",
      "objective: 2.228798e+00\n"
     ]
    }
   ],
   "source": [
    "omega_hat2, hist2 = cce.cceista(S, 0.3, epstol=1e-7, maxitr=500, penalize_diagonal=True)\n",
    "print(\"omega_hat:\\n %s\\n\" % (str(omega_hat2.todense())))\n",
    "print(\"hist: (inner_iter_count, delta_subg, objective)\\n %s\\n\" % (str(hist2[-3:])))\n",
    "print(\"iterations: %d\" % (len(hist2)))\n",
    "print(\"successive norm diff: %e\" % (hist2[-1,1]))\n",
    "print(\"objective: %e\" % (hist2[-1,2]))"
   ]
  },
  {
   "cell_type": "code",
   "execution_count": 4,
   "metadata": {},
   "outputs": [
    {
     "name": "stdout",
     "output_type": "stream",
     "text": [
      "omega_hat:\n",
      " [[ 1.22891056  0.74146191  0.        ]\n",
      " [ 0.74146191  0.93795358 -0.74107989]\n",
      " [ 0.         -0.74107989  1.2312441 ]]\n",
      "\n",
      "hist: (inner_iter_count, delta_subg, objective)\n",
      " [[4.16589988e-07 2.22879809e+00]\n",
      " [4.07570596e-07 2.22879809e+00]\n",
      " [3.98747634e-07 2.22879809e+00]]\n",
      "\n",
      "iterations: 500\n",
      "successive norm diff: 3.987476e-07\n",
      "objective: 2.228798e+00\n"
     ]
    }
   ],
   "source": [
    "Omega_hat, hist = cce.pycce(S, 0.3, epstol=1e-7, maxitr=500, penalize_diagonal=True)\n",
    "print(\"omega_hat:\\n %s\\n\" % (str(Omega_hat)))\n",
    "print(\"hist: (inner_iter_count, delta_subg, objective)\\n %s\\n\" % (str(hist[-3:])))\n",
    "print(\"iterations: %d\" % (len(hist)))\n",
    "print(\"successive norm diff: %e\" % (hist[-1,0]))\n",
    "print(\"objective: %e\" % (hist[-1,1]))"
   ]
  },
  {
   "cell_type": "code",
   "execution_count": 5,
   "metadata": {},
   "outputs": [
    {
     "name": "stdout",
     "output_type": "stream",
     "text": [
      "omega_hat:\n",
      " [[ 1.22891056  0.74146191  0.        ]\n",
      " [ 0.74146191  0.93795358 -0.74107989]\n",
      " [ 0.         -0.74107989  1.2312441 ]]\n",
      "\n",
      "hist: (inner_iter_count, delta_subg, objective)\n",
      " [[4.16589988e-07 2.22879809e+00]\n",
      " [4.07570596e-07 2.22879809e+00]\n",
      " [3.98747634e-07 2.22879809e+00]]\n",
      "\n",
      "iterations: 500\n",
      "successive norm diff: 3.987476e-07\n",
      "objective: 2.228798e+00\n"
     ]
    }
   ],
   "source": [
    "omega_hat2, hist2 = cce.cce(S, 0.3, epstol=1e-7, maxitr=500, penalize_diagonal=True)\n",
    "print(\"omega_hat:\\n %s\\n\" % (str(omega_hat2.todense())))\n",
    "print(\"hist: (inner_iter_count, delta_subg, objective)\\n %s\\n\" % (str(hist2[-3:])))\n",
    "print(\"iterations: %d\" % (len(hist2)))\n",
    "print(\"successive norm diff: %e\" % (hist2[-1,0]))\n",
    "print(\"objective: %e\" % (hist2[-1,1]))"
   ]
  }
 ],
 "metadata": {
  "kernelspec": {
   "display_name": "Python 3 (ipykernel)",
   "language": "python",
   "name": "python3"
  },
  "language_info": {
   "codemirror_mode": {
    "name": "ipython",
    "version": 3
   },
   "file_extension": ".py",
   "mimetype": "text/x-python",
   "name": "python",
   "nbconvert_exporter": "python",
   "pygments_lexer": "ipython3",
   "version": "3.10.5"
  },
  "orig_nbformat": 4,
  "vscode": {
   "interpreter": {
    "hash": "d4d1e4263499bec80672ea0156c357c1ee493ec2b1c70f0acce89fc37c4a6abe"
   }
  }
 },
 "nbformat": 4,
 "nbformat_minor": 2
}
