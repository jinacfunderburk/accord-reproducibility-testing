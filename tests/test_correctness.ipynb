{
 "cells": [
  {
   "cell_type": "code",
   "execution_count": 1,
   "metadata": {},
   "outputs": [],
   "source": [
    "%load_ext autoreload\n",
    "%autoreload 3\n",
    "\n",
    "# import gconcord as cc\n",
    "import gconcorde as cce\n",
    "import numpy as np\n",
    "\n",
    "# import importlib\n",
    "# importlib.reload(cc)\n",
    "\n",
    "np.random.seed(3)\n",
    "\n",
    "# true precision matrix\n",
    "omega = np.zeros((3,3), order=\"C\")\n",
    "omega[0, 1] = 2.1\n",
    "omega[1, 2] = -2.1\n",
    "omega += omega.T\n",
    "np.fill_diagonal(omega, 3)\n",
    "\n",
    "# true covariance matrix\n",
    "sigma = np.linalg.inv(omega)\n",
    "\n",
    "# observations\n",
    "data = np.random.multivariate_normal([0]*3, sigma, 500)\n",
    "\n",
    "# sample covariance matrix\n",
    "S = np.cov(data, rowvar=False)"
   ]
  },
  {
   "cell_type": "code",
   "execution_count": 2,
   "metadata": {},
   "outputs": [],
   "source": [
    "def get_precision(X):\n",
    "    return .5*(np.diag(np.diag(X)) @ X) + .5*(X.T @ np.diag(np.diag(X)))"
   ]
  },
  {
   "cell_type": "code",
   "execution_count": 3,
   "metadata": {},
   "outputs": [
    {
     "name": "stdout",
     "output_type": "stream",
     "text": [
      "omega_hat:\n",
      " [[ 1.57936149  0.86200851  0.        ]\n",
      " [ 0.86200851  0.97038679 -0.861551  ]\n",
      " [ 0.         -0.861551    1.58339681]]\n",
      "\n",
      "hist: (inner_iter_count, delta_subg, objective)\n",
      " [[4.00000000e+00 1.33185340e-07 1.81275925e+00]\n",
      " [3.00000000e+00 2.10278388e-07 1.81275925e+00]\n",
      " [5.00000000e+00 7.07887237e-08 1.81275925e+00]]\n",
      "\n",
      "iterations: 153\n",
      "successive norm diff: 7.078872e-08\n",
      "objective: 1.812759e+00\n"
     ]
    }
   ],
   "source": [
    "omega_hat, hist = cce.pycceista(S, 0.5, epstol=1e-7, maxitr=1000)\n",
    "print(\"omega_hat:\\n %s\\n\" % (str(get_precision(omega_hat))))\n",
    "print(\"hist: (inner_iter_count, delta_subg, objective)\\n %s\\n\" % (str(hist[-3:])))\n",
    "print(\"iterations: %d\" % (len(hist)))\n",
    "print(\"successive norm diff: %e\" % (hist[-1,1]))\n",
    "print(\"objective: %e\" % (hist[-1,2]))"
   ]
  },
  {
   "cell_type": "code",
   "execution_count": 4,
   "metadata": {},
   "outputs": [
    {
     "name": "stdout",
     "output_type": "stream",
     "text": [
      "omega_hat:\n",
      " [[ 1.57936149  0.86200851  0.        ]\n",
      " [ 0.86200851  0.97038679 -0.861551  ]\n",
      " [ 0.         -0.861551    1.58339681]]\n",
      "\n",
      "hist: (inner_iter_count, delta_subg, objective)\n",
      " [[4.00000000e+00 1.33185340e-07 1.81275925e+00]\n",
      " [3.00000000e+00 2.10278388e-07 1.81275925e+00]\n",
      " [5.00000000e+00 7.07887237e-08 1.81275925e+00]]\n",
      "\n",
      "iterations: 153\n",
      "successive norm diff: 7.078872e-08\n",
      "objective: 1.812759e+00\n"
     ]
    }
   ],
   "source": [
    "omega_hat2, hist2 = cce.cceista(S, 0.5, epstol=1e-7, maxitr=1000)\n",
    "print(\"omega_hat:\\n %s\\n\" % (str(get_precision(omega_hat2.todense()))))\n",
    "print(\"hist: (inner_iter_count, delta_subg, objective)\\n %s\\n\" % (str(hist2[-3:])))\n",
    "print(\"iterations: %d\" % (len(hist2)))\n",
    "print(\"successive norm diff: %e\" % (hist2[-1,1]))\n",
    "print(\"objective: %e\" % (hist2[-1,2]))\n"
   ]
  },
  {
   "cell_type": "code",
   "execution_count": 5,
   "metadata": {},
   "outputs": [
    {
     "name": "stdout",
     "output_type": "stream",
     "text": [
      "omega_hat:\n",
      " [[ 0.7462408   0.41210193  0.        ]\n",
      " [ 0.41210193  0.49396539 -0.41140869]\n",
      " [ 0.         -0.41140869  0.74753944]]\n",
      "\n",
      "hist: (inner_iter_count, delta_subg, objective)\n",
      " [[4.00000000e+00 1.55641448e-07 3.27145318e+00]\n",
      " [3.00000000e+00 2.47960967e-07 3.27145318e+00]\n",
      " [5.00000000e+00 8.70654888e-08 3.27145318e+00]]\n",
      "\n",
      "iterations: 104\n",
      "successive norm diff: 8.706549e-08\n",
      "objective: 3.271453e+00\n"
     ]
    }
   ],
   "source": [
    "omega_hat3, hist3 = cce.cceista(S, 0.5, epstol=1e-7, maxitr=1000, penalize_diagonal=True)\n",
    "print(\"omega_hat:\\n %s\\n\" % (str(get_precision(omega_hat3.todense()))))\n",
    "print(\"hist: (inner_iter_count, delta_subg, objective)\\n %s\\n\" % (str(hist3[-3:])))\n",
    "print(\"iterations: %d\" % (len(hist3)))\n",
    "print(\"successive norm diff: %e\" % (hist3[-1,1]))\n",
    "print(\"objective: %e\" % (hist3[-1,2]))"
   ]
  },
  {
   "cell_type": "code",
   "execution_count": 6,
   "metadata": {},
   "outputs": [
    {
     "name": "stdout",
     "output_type": "stream",
     "text": [
      "omega_hat:\n",
      " [[ 1.57935733  0.86200657  0.        ]\n",
      " [ 0.86200657  0.97038538 -0.86154901]\n",
      " [ 0.         -0.86154901  1.58339259]]\n",
      "\n",
      "hist: (inner_iter_count, delta_subg, objective)\n",
      " [[6.27000000e+02 1.03764933e-07 1.81275925e+00]\n",
      " [6.28000000e+02 1.01761717e-07 1.81275925e+00]\n",
      " [6.29000000e+02 9.97971846e-08 1.81275925e+00]]\n",
      "\n",
      "iterations: 629\n",
      "successive norm diff: 9.979718e-08\n",
      "objective: 1.812759e+00\n"
     ]
    }
   ],
   "source": [
    "omega_hat, hist = cce.pycce_constant(S, 0.5, epstol=1e-7, maxitr=1000)\n",
    "print(\"omega_hat:\\n %s\\n\" % (str(get_precision(omega_hat))))\n",
    "print(\"hist: (inner_iter_count, delta_subg, objective)\\n %s\\n\" % (str(hist[-3:])))\n",
    "print(\"iterations: %d\" % (len(hist)))\n",
    "print(\"successive norm diff: %e\" % (hist[-1,1]))\n",
    "print(\"objective: %e\" % (hist[-1,2]))"
   ]
  },
  {
   "cell_type": "code",
   "execution_count": 7,
   "metadata": {},
   "outputs": [
    {
     "name": "stdout",
     "output_type": "stream",
     "text": [
      "omega_hat:\n",
      " [[ 1.57935733  0.86200657  0.        ]\n",
      " [ 0.86200657  0.97038538 -0.86154901]\n",
      " [ 0.         -0.86154901  1.58339259]]\n",
      "\n",
      "hist: (inner_iter_count, delta_subg, objective)\n",
      " [[6.27000000e+02 1.03764933e-07 1.81275925e+00]\n",
      " [6.28000000e+02 1.01761717e-07 1.81275925e+00]\n",
      " [6.29000000e+02 9.97971846e-08 1.81275925e+00]]\n",
      "\n",
      "iterations: 629\n",
      "successive norm diff: 9.979718e-08\n",
      "objective: 1.812759e+00\n"
     ]
    }
   ],
   "source": [
    "omega_hat, hist = cce.pycce_constant(S, 0.5, epstol=1e-7, maxitr=1000, penalize_diagonal=False)\n",
    "print(\"omega_hat:\\n %s\\n\" % (str(get_precision(omega_hat))))\n",
    "print(\"hist: (inner_iter_count, delta_subg, objective)\\n %s\\n\" % (str(hist[-3:])))\n",
    "print(\"iterations: %d\" % (len(hist)))\n",
    "print(\"successive norm diff: %e\" % (hist[-1,1]))\n",
    "print(\"objective: %e\" % (hist[-1,2]))\n"
   ]
  },
  {
   "cell_type": "code",
   "execution_count": 8,
   "metadata": {},
   "outputs": [
    {
     "name": "stdout",
     "output_type": "stream",
     "text": [
      "omega_hat:\n",
      " [[0. 0. 0.]\n",
      " [0. 0. 0.]\n",
      " [0. 0. 0.]]\n",
      "\n",
      "hist: (inner_iter_count, delta_subg, objective)\n",
      " [[0.         0.03010181        inf]\n",
      " [0.         0.02453336        inf]\n",
      " [0.         0.                inf]]\n",
      "\n",
      "iterations: 35\n",
      "successive norm diff: 0.000000e+00\n",
      "objective: inf\n"
     ]
    }
   ],
   "source": [
    "omega_hat5, hist5 = cce.cce_constant(S, 0.5, epstol=1e-7, maxitr=1000, penalize_diagonal=True)\n",
    "print(\"omega_hat:\\n %s\\n\" % (str(get_precision(omega_hat5.todense()))))\n",
    "print(\"hist: (inner_iter_count, delta_subg, objective)\\n %s\\n\" % (str(hist5[-3:])))\n",
    "print(\"iterations: %d\" % (len(hist5)))\n",
    "print(\"successive norm diff: %e\" % (hist5[-1,1]))\n",
    "print(\"objective: %e\" % (hist5[-1,2]))\n"
   ]
  }
 ],
 "metadata": {
  "kernelspec": {
   "display_name": "Python 3 (ipykernel)",
   "language": "python",
   "name": "python3"
  },
  "language_info": {
   "codemirror_mode": {
    "name": "ipython",
    "version": 3
   },
   "file_extension": ".py",
   "mimetype": "text/x-python",
   "name": "python",
   "nbconvert_exporter": "python",
   "pygments_lexer": "ipython3",
   "version": "3.10.5"
  },
  "orig_nbformat": 4,
  "vscode": {
   "interpreter": {
    "hash": "d4d1e4263499bec80672ea0156c357c1ee493ec2b1c70f0acce89fc37c4a6abe"
   }
  }
 },
 "nbformat": 4,
 "nbformat_minor": 2
}
