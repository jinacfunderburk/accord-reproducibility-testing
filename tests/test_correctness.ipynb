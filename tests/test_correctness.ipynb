{
 "cells": [
  {
   "cell_type": "code",
   "execution_count": 23,
   "metadata": {},
   "outputs": [
    {
     "name": "stdout",
     "output_type": "stream",
     "text": [
      "The autoreload extension is already loaded. To reload it, use:\n",
      "  %reload_ext autoreload\n"
     ]
    }
   ],
   "source": [
    "%load_ext autoreload\n",
    "%autoreload 3\n",
    "\n",
    "import gconcord as cc\n",
    "import numpy as np\n",
    "\n",
    "# import importlib\n",
    "# importlib.reload(cc)\n",
    "\n",
    "# true precision matrix\n",
    "omega = np.zeros((3,3), order=\"C\")\n",
    "omega[0, 1] = 2.1\n",
    "omega[1, 2] = -2.1\n",
    "omega += omega.T\n",
    "np.fill_diagonal(omega, 3)\n",
    "\n",
    "# true covariance matrix\n",
    "sigma = np.linalg.inv(omega)\n",
    "\n",
    "# observations\n",
    "data = np.random.multivariate_normal([0]*3, sigma, 500)\n",
    "\n",
    "# sample covariance matrix\n",
    "S = np.cov(data, rowvar=False)"
   ]
  },
  {
   "cell_type": "code",
   "execution_count": 34,
   "metadata": {},
   "outputs": [
    {
     "name": "stdout",
     "output_type": "stream",
     "text": [
      "omega_hat:\n",
      " [[ 1.16599714  0.78771182  0.        ]\n",
      " [ 0.78771182  1.15357733 -0.78199937]\n",
      " [ 0.         -0.78199937  1.16650021]]\n",
      "\n",
      "hist: (inner_iter_count, delta_subg, objective)\n",
      " [[0.00000000e+00 2.54291302e-05 1.83438637e+00]\n",
      " [5.00000000e+00 1.24204357e-05 1.83438637e+00]\n",
      " [4.00000000e+00 5.57716100e-06 1.83438637e+00]]\n",
      "\n",
      "iterations: 77\n",
      "relative subg norm: 5.577161e-06\n",
      "objective: 1.834386e+00\n"
     ]
    }
   ],
   "source": [
    "# omega_hat, hist = cc.pyccista(S, 0.5, maxitr=1000)\n",
    "omega_hat, hist = cc.pyccista(S, 0.5, maxitr=1000)\n",
    "print(\"omega_hat:\\n %s\\n\" % (str(omega_hat)))\n",
    "print(\"hist: (inner_iter_count, delta_subg, objective)\\n %s\\n\" % (str(hist[-3:])))\n",
    "print(\"iterations: %d\" % (len(hist)))\n",
    "print(\"relative subg norm: %e\" % (hist[-1,1]))\n",
    "print(\"objective: %e\" % (hist[-1,2]))"
   ]
  },
  {
   "cell_type": "code",
   "execution_count": 14,
   "metadata": {},
   "outputs": [
    {
     "data": {
      "text/plain": [
       "array([[ 2.68086761,  1.74531533,  0.11903631],\n",
       "       [ 1.74531533,  2.47455082, -1.77869446],\n",
       "       [ 0.11903631, -1.77869446,  2.74703368]])"
      ]
     },
     "execution_count": 14,
     "metadata": {},
     "output_type": "execute_result"
    }
   ],
   "source": [
    "sigii = np.diag(omega_hat.diagonal())\n",
    "np.matmul(np.matmul(np.sqrt(sigii), omega_hat), np.sqrt(sigii))"
   ]
  },
  {
   "cell_type": "code",
   "execution_count": 16,
   "metadata": {},
   "outputs": [
    {
     "data": {
      "text/plain": [
       "array([[ 3.14093935,  2.04766398,  0.2159001 ],\n",
       "       [ 2.04766398,  2.96450268, -2.09585525],\n",
       "       [ 0.2159001 , -2.09585525,  3.21037287]])"
      ]
     },
     "execution_count": 16,
     "metadata": {},
     "output_type": "execute_result"
    }
   ],
   "source": [
    "np.linalg.inv(S)"
   ]
  },
  {
   "cell_type": "code",
   "execution_count": 17,
   "metadata": {},
   "outputs": [
    {
     "data": {
      "text/plain": [
       "array([[ 3. ,  2.1,  0. ],\n",
       "       [ 2.1,  3. , -2.1],\n",
       "       [ 0. , -2.1,  3. ]])"
      ]
     },
     "execution_count": 17,
     "metadata": {},
     "output_type": "execute_result"
    }
   ],
   "source": [
    "omega"
   ]
  },
  {
   "cell_type": "code",
   "execution_count": 1,
   "metadata": {},
   "outputs": [
    {
     "ename": "ModuleNotFoundError",
     "evalue": "No module named 'gconcord'",
     "output_type": "error",
     "traceback": [
      "\u001b[0;31m---------------------------------------------------------------------------\u001b[0m",
      "\u001b[0;31mModuleNotFoundError\u001b[0m                       Traceback (most recent call last)",
      "\u001b[1;32m/workspaces/gconcord/tests/test_correctness.ipynb Cell 6\u001b[0m in \u001b[0;36m<cell line: 4>\u001b[0;34m()\u001b[0m\n\u001b[1;32m      <a href='vscode-notebook-cell://dev-container%2B7b22686f737450617468223a222f686f6d652f73796f682f446f63756d656e74732f67636f6e636f7264222c226c6f63616c446f636b6572223a66616c73652c2273657474696e6773223a7b22686f7374223a227373683a2f2f616e6e6162656c6c652e70737461742e756373622e656475227d7d/workspaces/gconcord/tests/test_correctness.ipynb#W5sdnNjb2RlLXJlbW90ZQ%3D%3D?line=0'>1</a>\u001b[0m get_ipython()\u001b[39m.\u001b[39mrun_line_magic(\u001b[39m'\u001b[39m\u001b[39mload_ext\u001b[39m\u001b[39m'\u001b[39m, \u001b[39m'\u001b[39m\u001b[39mautoreload\u001b[39m\u001b[39m'\u001b[39m)\n\u001b[1;32m      <a href='vscode-notebook-cell://dev-container%2B7b22686f737450617468223a222f686f6d652f73796f682f446f63756d656e74732f67636f6e636f7264222c226c6f63616c446f636b6572223a66616c73652c2273657474696e6773223a7b22686f7374223a227373683a2f2f616e6e6162656c6c652e70737461742e756373622e656475227d7d/workspaces/gconcord/tests/test_correctness.ipynb#W5sdnNjb2RlLXJlbW90ZQ%3D%3D?line=1'>2</a>\u001b[0m get_ipython()\u001b[39m.\u001b[39mrun_line_magic(\u001b[39m'\u001b[39m\u001b[39mautoreload\u001b[39m\u001b[39m'\u001b[39m, \u001b[39m'\u001b[39m\u001b[39m2\u001b[39m\u001b[39m'\u001b[39m)\n\u001b[0;32m----> <a href='vscode-notebook-cell://dev-container%2B7b22686f737450617468223a222f686f6d652f73796f682f446f63756d656e74732f67636f6e636f7264222c226c6f63616c446f636b6572223a66616c73652c2273657474696e6773223a7b22686f7374223a227373683a2f2f616e6e6162656c6c652e70737461742e756373622e656475227d7d/workspaces/gconcord/tests/test_correctness.ipynb#W5sdnNjb2RlLXJlbW90ZQ%3D%3D?line=3'>4</a>\u001b[0m \u001b[39mimport\u001b[39;00m \u001b[39mgconcord\u001b[39;00m \u001b[39mas\u001b[39;00m \u001b[39mcc\u001b[39;00m\n\u001b[1;32m      <a href='vscode-notebook-cell://dev-container%2B7b22686f737450617468223a222f686f6d652f73796f682f446f63756d656e74732f67636f6e636f7264222c226c6f63616c446f636b6572223a66616c73652c2273657474696e6773223a7b22686f7374223a227373683a2f2f616e6e6162656c6c652e70737461742e756373622e656475227d7d/workspaces/gconcord/tests/test_correctness.ipynb#W5sdnNjb2RlLXJlbW90ZQ%3D%3D?line=4'>5</a>\u001b[0m \u001b[39mimport\u001b[39;00m \u001b[39mnumpy\u001b[39;00m \u001b[39mas\u001b[39;00m \u001b[39mnp\u001b[39;00m\n\u001b[1;32m      <a href='vscode-notebook-cell://dev-container%2B7b22686f737450617468223a222f686f6d652f73796f682f446f63756d656e74732f67636f6e636f7264222c226c6f63616c446f636b6572223a66616c73652c2273657474696e6773223a7b22686f7374223a227373683a2f2f616e6e6162656c6c652e70737461742e756373622e656475227d7d/workspaces/gconcord/tests/test_correctness.ipynb#W5sdnNjb2RlLXJlbW90ZQ%3D%3D?line=6'>7</a>\u001b[0m \u001b[39m# import importlib\u001b[39;00m\n\u001b[1;32m      <a href='vscode-notebook-cell://dev-container%2B7b22686f737450617468223a222f686f6d652f73796f682f446f63756d656e74732f67636f6e636f7264222c226c6f63616c446f636b6572223a66616c73652c2273657474696e6773223a7b22686f7374223a227373683a2f2f616e6e6162656c6c652e70737461742e756373622e656475227d7d/workspaces/gconcord/tests/test_correctness.ipynb#W5sdnNjb2RlLXJlbW90ZQ%3D%3D?line=7'>8</a>\u001b[0m \u001b[39m# importlib.reload(cc)\u001b[39;00m\n\u001b[1;32m      <a href='vscode-notebook-cell://dev-container%2B7b22686f737450617468223a222f686f6d652f73796f682f446f63756d656e74732f67636f6e636f7264222c226c6f63616c446f636b6572223a66616c73652c2273657474696e6773223a7b22686f7374223a227373683a2f2f616e6e6162656c6c652e70737461742e756373622e656475227d7d/workspaces/gconcord/tests/test_correctness.ipynb#W5sdnNjb2RlLXJlbW90ZQ%3D%3D?line=8'>9</a>\u001b[0m \n\u001b[1;32m     <a href='vscode-notebook-cell://dev-container%2B7b22686f737450617468223a222f686f6d652f73796f682f446f63756d656e74732f67636f6e636f7264222c226c6f63616c446f636b6572223a66616c73652c2273657474696e6773223a7b22686f7374223a227373683a2f2f616e6e6162656c6c652e70737461742e756373622e656475227d7d/workspaces/gconcord/tests/test_correctness.ipynb#W5sdnNjb2RlLXJlbW90ZQ%3D%3D?line=9'>10</a>\u001b[0m \u001b[39m# true precision matrix\u001b[39;00m\n",
      "\u001b[0;31mModuleNotFoundError\u001b[0m: No module named 'gconcord'"
     ]
    }
   ],
   "source": [
    "%load_ext autoreload\n",
    "%autoreload 2\n",
    "\n",
    "import gconcord as cc\n",
    "import numpy as np\n",
    "\n",
    "# import importlib\n",
    "# importlib.reload(cc)\n",
    "\n",
    "# true precision matrix\n",
    "omega = np.zeros((3,3), order=\"C\")\n",
    "omega[0, 1] = 2.1\n",
    "omega[1, 2] = -2.1\n",
    "omega += omega.T\n",
    "np.fill_diagonal(omega, 3)\n",
    "\n",
    "# true covariance matrix\n",
    "sigma = np.linalg.inv(omega)\n",
    "\n",
    "# observations\n",
    "data = np.random.multivariate_normal([0]*3, sigma, 500)\n",
    "\n",
    "# sample covariance matrix\n",
    "S = np.cov(data, rowvar=False)"
   ]
  },
  {
   "cell_type": "code",
   "execution_count": 2,
   "metadata": {},
   "outputs": [
    {
     "ename": "NameError",
     "evalue": "name 'cc' is not defined",
     "output_type": "error",
     "traceback": [
      "\u001b[0;31m---------------------------------------------------------------------------\u001b[0m",
      "\u001b[0;31mNameError\u001b[0m                                 Traceback (most recent call last)",
      "\u001b[1;32m/workspaces/gconcord/tests/test_correctness.ipynb Cell 7\u001b[0m in \u001b[0;36m<cell line: 1>\u001b[0;34m()\u001b[0m\n\u001b[0;32m----> <a href='vscode-notebook-cell://dev-container%2B7b22686f737450617468223a222f686f6d652f73796f682f446f63756d656e74732f67636f6e636f7264222c226c6f63616c446f636b6572223a66616c73652c2273657474696e6773223a7b22686f7374223a227373683a2f2f616e6e6162656c6c652e70737461742e756373622e656475227d7d/workspaces/gconcord/tests/test_correctness.ipynb#X46sdnNjb2RlLXJlbW90ZQ%3D%3D?line=0'>1</a>\u001b[0m cc\u001b[39m.\u001b[39mccista(S, \u001b[39m0.5\u001b[39m, maxitr\u001b[39m=\u001b[39m\u001b[39m1000\u001b[39m)\u001b[39m.\u001b[39mtodense()\n",
      "\u001b[0;31mNameError\u001b[0m: name 'cc' is not defined"
     ]
    }
   ],
   "source": [
    "cc.ccista(S, 0.5, maxitr=1000).todense()"
   ]
  }
 ],
 "metadata": {
  "kernelspec": {
   "display_name": "Python 3.10.5 ('base')",
   "language": "python",
   "name": "python3"
  },
  "language_info": {
   "codemirror_mode": {
    "name": "ipython",
    "version": 3
   },
   "file_extension": ".py",
   "mimetype": "text/x-python",
   "name": "python",
   "nbconvert_exporter": "python",
   "pygments_lexer": "ipython3",
   "version": "3.10.5"
  },
  "orig_nbformat": 4,
  "vscode": {
   "interpreter": {
    "hash": "d4d1e4263499bec80672ea0156c357c1ee493ec2b1c70f0acce89fc37c4a6abe"
   }
  }
 },
 "nbformat": 4,
 "nbformat_minor": 2
}
