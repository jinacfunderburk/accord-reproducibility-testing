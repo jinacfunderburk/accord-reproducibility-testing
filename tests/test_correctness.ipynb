{
 "cells": [
  {
   "cell_type": "code",
   "execution_count": 1,
   "metadata": {},
   "outputs": [],
   "source": [
    "%load_ext autoreload\n",
    "%autoreload 3\n",
    "\n",
    "import gconcord as cc\n",
    "import numpy as np\n",
    "\n",
    "# import importlib\n",
    "# importlib.reload(cc)\n",
    "\n",
    "# true precision matrix\n",
    "omega = np.zeros((3,3), order=\"C\")\n",
    "omega[0, 1] = 2.1\n",
    "omega[1, 2] = -2.1\n",
    "omega += omega.T\n",
    "np.fill_diagonal(omega, 3)\n",
    "\n",
    "# true covariance matrix\n",
    "sigma = np.linalg.inv(omega)\n",
    "\n",
    "# observations\n",
    "data = np.random.multivariate_normal([0]*3, sigma, 500)\n",
    "\n",
    "# sample covariance matrix\n",
    "S = np.cov(data, rowvar=False)"
   ]
  },
  {
   "cell_type": "code",
   "execution_count": 2,
   "metadata": {},
   "outputs": [
    {
     "name": "stdout",
     "output_type": "stream",
     "text": [
      "omega_hat:\n",
      " [[ 1.16616066  0.78917198  0.        ]\n",
      " [ 0.78917198  1.15987502 -0.77511828]\n",
      " [ 0.         -0.77511828  1.15536188]]\n",
      "\n",
      "hist: (inner_iter_count, delta_subg, objective)\n",
      " [[5.00000000e+00 1.40865209e-05 1.83567229e+00]\n",
      " [1.00000000e+00 2.68817717e-05 1.83567229e+00]\n",
      " [5.00000000e+00 9.39526252e-06 1.83567229e+00]]\n",
      "\n",
      "iterations: 85\n",
      "relative subg norm: 9.395263e-06\n",
      "objective: 1.835672e+00\n"
     ]
    }
   ],
   "source": [
    "# omega_hat, hist = cc.pyccista(S, 0.5, maxitr=1000)\n",
    "omega_hat, hist = cc.pyccista(S, 0.5, maxitr=1000)\n",
    "print(\"omega_hat:\\n %s\\n\" % (str(omega_hat)))\n",
    "print(\"hist: (inner_iter_count, delta_subg, objective)\\n %s\\n\" % (str(hist[-3:])))\n",
    "print(\"iterations: %d\" % (len(hist)))\n",
    "print(\"relative subg norm: %e\" % (hist[-1,1]))\n",
    "print(\"objective: %e\" % (hist[-1,2]))"
   ]
  },
  {
   "cell_type": "code",
   "execution_count": 3,
   "metadata": {},
   "outputs": [
    {
     "data": {
      "text/plain": [
       "array([[ 1.35993067,  0.91781773,  0.        ],\n",
       "       [ 0.91781773,  1.34531005, -0.89728951],\n",
       "       [ 0.        , -0.89728951,  1.33486107]])"
      ]
     },
     "execution_count": 3,
     "metadata": {},
     "output_type": "execute_result"
    }
   ],
   "source": [
    "sigii = np.diag(omega_hat.diagonal())\n",
    "np.matmul(np.matmul(np.sqrt(sigii), omega_hat), np.sqrt(sigii))"
   ]
  },
  {
   "cell_type": "code",
   "execution_count": 4,
   "metadata": {},
   "outputs": [
    {
     "data": {
      "text/plain": [
       "array([[ 2.99330661,  2.07286801,  0.07751084],\n",
       "       [ 2.07286801,  2.94655482, -2.00235647],\n",
       "       [ 0.07751084, -2.00235647,  2.91586512]])"
      ]
     },
     "execution_count": 4,
     "metadata": {},
     "output_type": "execute_result"
    }
   ],
   "source": [
    "np.linalg.inv(S)"
   ]
  },
  {
   "cell_type": "code",
   "execution_count": 5,
   "metadata": {},
   "outputs": [
    {
     "data": {
      "text/plain": [
       "array([[ 3. ,  2.1,  0. ],\n",
       "       [ 2.1,  3. , -2.1],\n",
       "       [ 0. , -2.1,  3. ]])"
      ]
     },
     "execution_count": 5,
     "metadata": {},
     "output_type": "execute_result"
    }
   ],
   "source": [
    "omega"
   ]
  },
  {
   "cell_type": "code",
   "execution_count": 6,
   "metadata": {},
   "outputs": [
    {
     "name": "stdout",
     "output_type": "stream",
     "text": [
      "[[0.  0.5 0.5]\n",
      " [0.5 0.  0.5]\n",
      " [0.5 0.5 0. ]]\n"
     ]
    },
    {
     "ename": "TypeError",
     "evalue": "ccista(): incompatible function arguments. The following argument types are supported:\n    1. (arg0: numpy.ndarray[numpy.float64[m, n], flags.writeable], arg1: numpy.ndarray[numpy.float64[m, n], flags.writeable], arg2: float, arg3: int) -> scipy.sparse.csc_matrix[numpy.float64]\n\nInvoked with: array([[  8.70620509, -11.77858763,  -8.31991723],\n       [-11.77858763,  16.57152956,  11.69295435],\n       [ -8.31991723,  11.69295435,   8.59379483]]), array([[0. , 0.5, 0.5],\n       [0.5, 0. , 0.5],\n       [0.5, 0.5, 0. ]]), 0.0, 1e-05, 1000, 1",
     "output_type": "error",
     "traceback": [
      "\u001b[0;31m---------------------------------------------------------------------------\u001b[0m",
      "\u001b[0;31mTypeError\u001b[0m                                 Traceback (most recent call last)",
      "\u001b[1;32m/workspaces/gconcord/tests/test_correctness.ipynb Cell 6\u001b[0m in \u001b[0;36m<cell line: 1>\u001b[0;34m()\u001b[0m\n\u001b[0;32m----> <a href='vscode-notebook-cell://codespaces%2Bsyoh-dddlab-gconcord-7vjg45p4qv3pxq6/workspaces/gconcord/tests/test_correctness.ipynb#W6sdnNjb2RlLXJlbW90ZQ%3D%3D?line=0'>1</a>\u001b[0m cc\u001b[39m.\u001b[39;49mccista(S, \u001b[39m0.5\u001b[39;49m, maxitr\u001b[39m=\u001b[39;49m\u001b[39m1000\u001b[39;49m)\u001b[39m.\u001b[39mtodense()\n",
      "File \u001b[0;32m/workspaces/gconcord/gconcord/gconcord.py:23\u001b[0m, in \u001b[0;36mccista\u001b[0;34m(S, lambda1, lambda2, epstol, maxitr, steptype, penalize_diagonal)\u001b[0m\n\u001b[1;32m     20\u001b[0m     np\u001b[39m.\u001b[39mfill_diagonal(lambda1, \u001b[39m0\u001b[39m)\n\u001b[1;32m     21\u001b[0m \u001b[39mprint\u001b[39m(lambda1)\n\u001b[0;32m---> 23\u001b[0m \u001b[39mreturn\u001b[39;00m _cc\u001b[39m.\u001b[39;49mccista(S, lambda1, lambda2, epstol, maxitr, steptype)\n",
      "\u001b[0;31mTypeError\u001b[0m: ccista(): incompatible function arguments. The following argument types are supported:\n    1. (arg0: numpy.ndarray[numpy.float64[m, n], flags.writeable], arg1: numpy.ndarray[numpy.float64[m, n], flags.writeable], arg2: float, arg3: int) -> scipy.sparse.csc_matrix[numpy.float64]\n\nInvoked with: array([[  8.70620509, -11.77858763,  -8.31991723],\n       [-11.77858763,  16.57152956,  11.69295435],\n       [ -8.31991723,  11.69295435,   8.59379483]]), array([[0. , 0.5, 0.5],\n       [0.5, 0. , 0.5],\n       [0.5, 0.5, 0. ]]), 0.0, 1e-05, 1000, 1"
     ]
    }
   ],
   "source": [
    "cc.ccista(S, 0.5, maxitr=1000).todense()"
   ]
  }
 ],
 "metadata": {
  "kernelspec": {
   "display_name": "Python 3.10.5 ('base')",
   "language": "python",
   "name": "python3"
  },
  "language_info": {
   "codemirror_mode": {
    "name": "ipython",
    "version": 3
   },
   "file_extension": ".py",
   "mimetype": "text/x-python",
   "name": "python",
   "nbconvert_exporter": "python",
   "pygments_lexer": "ipython3",
   "version": "3.10.5"
  },
  "orig_nbformat": 4,
  "vscode": {
   "interpreter": {
    "hash": "d4d1e4263499bec80672ea0156c357c1ee493ec2b1c70f0acce89fc37c4a6abe"
   }
  }
 },
 "nbformat": 4,
 "nbformat_minor": 2
}
