{
 "cells": [
  {
   "cell_type": "code",
   "execution_count": 23,
   "metadata": {},
   "outputs": [
    {
     "name": "stdout",
     "output_type": "stream",
     "text": [
      "The autoreload extension is already loaded. To reload it, use:\n",
      "  %reload_ext autoreload\n"
     ]
    }
   ],
   "source": [
    "%load_ext autoreload\n",
    "%autoreload 3\n",
    "\n",
    "import numpy as np\n",
    "import pandas as pd\n",
    "import gconcorde as cce\n",
    "from gconcorde import GraphicalConcorde, GraphicalConcordeCV\n",
    "\n",
    "np.random.seed(3)\n",
    "\n",
    "# true precision matrix\n",
    "Omega = np.zeros((3,3), order=\"C\")\n",
    "Omega[0, 1] = 2.1\n",
    "Omega[1, 2] = -2.1\n",
    "Omega += Omega.T\n",
    "np.fill_diagonal(Omega, 3)\n",
    "L = np.linalg.cholesky(Omega)\n",
    "\n",
    "# true covariance matrix\n",
    "Sigma = np.linalg.inv(Omega)\n",
    "\n",
    "# observations\n",
    "X = np.random.multivariate_normal([0]*3, Sigma, 500)\n",
    "\n",
    "# sample covariance matrix\n",
    "S = np.cov(X, rowvar=False)"
   ]
  },
  {
   "cell_type": "code",
   "execution_count": 24,
   "metadata": {},
   "outputs": [],
   "source": [
    "def partial_corr(A):\n",
    "    std_inv = np.diag(np.sqrt(1/np.diag(A)))\n",
    "    A_corr = -1 * (std_inv @ A @ std_inv)\n",
    "    np.fill_diagonal(A_corr, 1)\n",
    "    \n",
    "    return A_corr"
   ]
  },
  {
   "cell_type": "code",
   "execution_count": 3,
   "metadata": {},
   "outputs": [],
   "source": [
    "S.flat[::S.shape[0] + 1] = 0\n",
    "lam_max = np.max(np.abs(S))\n",
    "lam_min = 0.01 * lam_max\n",
    "lams = np.logspace(np.log10(lam_min), np.log10(lam_max), 5)"
   ]
  },
  {
   "cell_type": "code",
   "execution_count": 4,
   "metadata": {},
   "outputs": [],
   "source": [
    "model = GraphicalConcorde(lam1=lams[0], lam2=0, epstol=1e-7, maxitr=500, penalize_diag=True)\n",
    "model.fit(X)\n",
    "Omega_hat = model.precision_.toarray()\n",
    "Omega_hat\n",
    "\n",
    "lam_mat = np.where(Omega_hat != 0, 0, 100.0)"
   ]
  },
  {
   "cell_type": "code",
   "execution_count": 5,
   "metadata": {},
   "outputs": [],
   "source": [
    "Omega_corr = partial_corr(Omega)"
   ]
  },
  {
   "cell_type": "code",
   "execution_count": 6,
   "metadata": {},
   "outputs": [
    {
     "name": "stdout",
     "output_type": "stream",
     "text": [
      "[[ 1.         -0.69990882 -0.        ]\n",
      " [-0.69990882  1.          0.69950522]\n",
      " [-0.          0.69950522  1.        ]]\n",
      "0.0007115076033537158\n",
      " \n",
      " \n",
      "[[ 1.         -0.69771143 -0.        ]\n",
      " [-0.69771143  1.          0.69721832]\n",
      " [-0.          0.69721832  1.        ]]\n",
      "0.0050941796063759\n",
      " \n",
      " \n",
      "[[ 1.         -0.69589634 -0.        ]\n",
      " [-0.69589634  1.          0.69533253]\n",
      " [-0.          0.69533253  1.        ]]\n",
      "0.008789224176101187\n",
      " \n",
      " \n",
      "[[ 1.         -0.69415725 -0.        ]\n",
      " [-0.69415725  1.          0.69353737]\n",
      " [-0.          0.69353737  1.        ]]\n",
      "0.01232098334436549\n",
      " \n",
      " \n",
      "[[ 1.         -0.69240218 -0.        ]\n",
      " [-0.69240218  1.          0.69173726]\n",
      " [-0.          0.69173726  1.        ]]\n",
      "0.015874489653082205\n",
      " \n",
      " \n",
      "[[ 1.         -0.6906078  -0.        ]\n",
      " [-0.6906078   1.          0.68990607]\n",
      " [-0.          0.68990607  1.        ]]\n",
      "0.019498761927703865\n",
      " \n",
      " \n",
      "[[ 1.         -0.68877239 -0.        ]\n",
      " [-0.68877239  1.          0.68804028]\n",
      " [-0.          0.68804028  1.        ]]\n",
      "0.023198880739107655\n",
      " \n",
      " \n",
      "[[ 1.         -0.68690101 -0.        ]\n",
      " [-0.68690101  1.          0.6861435 ]\n",
      " [-0.          0.6861435   1.        ]]\n",
      "0.026966125441549287\n",
      " \n",
      " \n",
      "[[ 1.         -0.68500012 -0.        ]\n",
      " [-0.68500012  1.          0.68422117]\n",
      " [-0.          0.68422117  1.        ]]\n",
      "0.03078856572220878\n",
      " \n",
      " \n",
      "[[ 1.        -0.6830759 -0.       ]\n",
      " [-0.6830759  1.         0.6822787]\n",
      " [-0.         0.6822787  1.       ]]\n",
      "0.03465457771395939\n",
      " \n",
      " \n"
     ]
    }
   ],
   "source": [
    "lam2s = np.linspace(0.01, 0.5, 10)\n",
    "for lam2 in lam2s:\n",
    "    model = GraphicalConcorde(lam1=lam_mat, lam2=lam2, epstol=1e-7, maxitr=500, penalize_diag=True)\n",
    "    model.fit(X)\n",
    "    Omega_hat = model.precision_.toarray()\n",
    "    Omega_corr_hat = partial_corr(Omega_hat)\n",
    "    print(Omega_corr_hat)\n",
    "    print(np.linalg.norm(Omega_corr - Omega_corr_hat))\n",
    "    print(' ')\n",
    "    print(' ')"
   ]
  },
  {
   "cell_type": "code",
   "execution_count": 5,
   "metadata": {},
   "outputs": [
    {
     "name": "stdout",
     "output_type": "stream",
     "text": [
      "omega_hat:\n",
      " [[ 2.03380077  1.36279999  0.        ]\n",
      " [ 1.36279999  1.8841713  -1.36310986]\n",
      " [ 0.         -1.36310986  2.03805204]]\n",
      "\n",
      "hist: (inner_iter_count, delta_subg, objective)\n",
      " [[1.88941057e-05 9.45847264e-01]\n",
      " [1.86311386e-05 9.45847253e-01]\n",
      " [1.83719341e-05 9.45847241e-01]]\n",
      "\n",
      "iterations: 500\n",
      "successive norm diff: 1.837193e-05\n",
      "objective: 9.458472e-01 \n",
      "\n",
      "cv results:\n",
      "          lam         score\n",
      "0   0.116869   7800.831566\n",
      "1   0.369572   8565.759128\n",
      "2   1.168689   8934.402873\n",
      "3   3.695718  12894.612277\n",
      "4  11.686885  12894.612277\n",
      "\n",
      "best lam: 0.11686885357906268\n"
     ]
    }
   ],
   "source": [
    "# CONCORDe CV\n",
    "\n",
    "print(\"omega_hat:\\n %s\\n\" % (str(model_cv.precision_.toarray())))\n",
    "print(\"hist: (inner_iter_count, delta_subg, objective)\\n %s\\n\" % (str(model_cv.hist_[-3:])))\n",
    "print(\"iterations: %d\" % (len(model_cv.hist_)))\n",
    "print(\"successive norm diff: %e\" % (model_cv.hist_[-1,0]))\n",
    "print(\"objective: %e \\n\" % (model_cv.hist_[-1,1]))\n",
    "print(\"cv results:\\n %s\\n\" % pd.DataFrame(model_cv.cv_results_))\n",
    "print(\"best lam: %s\" % model_cv.best_param_)"
   ]
  }
 ],
 "metadata": {
  "kernelspec": {
   "display_name": "Python 3 (ipykernel)",
   "language": "python",
   "name": "python3"
  },
  "language_info": {
   "codemirror_mode": {
    "name": "ipython",
    "version": 3
   },
   "file_extension": ".py",
   "mimetype": "text/x-python",
   "name": "python",
   "nbconvert_exporter": "python",
   "pygments_lexer": "ipython3",
   "version": "3.10.5"
  },
  "orig_nbformat": 4,
  "vscode": {
   "interpreter": {
    "hash": "d4d1e4263499bec80672ea0156c357c1ee493ec2b1c70f0acce89fc37c4a6abe"
   }
  }
 },
 "nbformat": 4,
 "nbformat_minor": 2
}
