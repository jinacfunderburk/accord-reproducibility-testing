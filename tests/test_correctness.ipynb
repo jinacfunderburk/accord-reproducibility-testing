{
 "cells": [
  {
   "cell_type": "code",
   "execution_count": 1,
   "metadata": {},
   "outputs": [],
   "source": [
    "%load_ext autoreload\n",
    "%autoreload 3\n",
    "\n",
    "import numpy as np\n",
    "import pandas as pd\n",
    "import gconcorde as cce\n",
    "from gconcorde import GraphicalConcorde, GraphicalConcordeCV\n",
    "\n",
    "np.random.seed(3)\n",
    "\n",
    "# true precision matrix\n",
    "omega = np.zeros((3,3), order=\"C\")\n",
    "omega[0, 1] = 2.1\n",
    "omega[1, 2] = -2.1\n",
    "omega += omega.T\n",
    "np.fill_diagonal(omega, 3)\n",
    "\n",
    "# true covariance matrix\n",
    "sigma = np.linalg.inv(omega)\n",
    "\n",
    "# observations\n",
    "data = np.random.multivariate_normal([0]*3, sigma, 500)\n",
    "\n",
    "# sample covariance matrix\n",
    "S = np.cov(data, rowvar=False)"
   ]
  },
  {
   "cell_type": "code",
   "execution_count": 2,
   "metadata": {},
   "outputs": [],
   "source": [
    "S.flat[::S.shape[0] + 1] = 0\n",
    "lam_max = np.max(np.abs(S))\n",
    "lam_min = 0.01 * lam_max\n",
    "lams = np.logspace(np.log10(lam_min), np.log10(lam_max), 5)"
   ]
  },
  {
   "cell_type": "code",
   "execution_count": 3,
   "metadata": {},
   "outputs": [
    {
     "name": "stdout",
     "output_type": "stream",
     "text": [
      "omega_hat:\n",
      " [[ 2.03380077  1.36279999  0.        ]\n",
      " [ 1.36279999  1.8841713  -1.36310986]\n",
      " [ 0.         -1.36310986  2.03805204]]\n",
      "\n",
      "hist: (inner_iter_count, delta_subg, objective)\n",
      " [[1.88941057e-05 9.45847264e-01]\n",
      " [1.86311386e-05 9.45847253e-01]\n",
      " [1.83719341e-05 9.45847241e-01]]\n",
      "\n",
      "iterations: 500\n",
      "successive norm diff: 1.837193e-05\n",
      "objective: 9.458472e-01\n"
     ]
    }
   ],
   "source": [
    "# CONCORDe CV\n",
    "\n",
    "model = GraphicalConcorde(lam=lams[0], epstol=1e-7, maxitr=500, penalize_diag=True)\n",
    "model.fit(data)\n",
    "\n",
    "# predict\n",
    "print(\"omega_hat:\\n %s\\n\" % (str(model.precision_.toarray())))\n",
    "print(\"hist: (inner_iter_count, delta_subg, objective)\\n %s\\n\" % (str(model.hist_[-3:])))\n",
    "print(\"iterations: %d\" % (len(model.hist_)))\n",
    "print(\"successive norm diff: %e\" % (model.hist_[-1,0]))\n",
    "print(\"objective: %e\" % (model.hist_[-1,1]))"
   ]
  },
  {
   "cell_type": "code",
   "execution_count": 4,
   "metadata": {},
   "outputs": [
    {
     "data": {
      "text/plain": [
       "<gconcorde.gconcorde.GraphicalConcordeCV at 0x7f64dd79c3a0>"
      ]
     },
     "execution_count": 4,
     "metadata": {},
     "output_type": "execute_result"
    }
   ],
   "source": [
    "model_cv = GraphicalConcordeCV(lams=lams, epstol=1e-7, maxitr=500, penalize_diag=True, val_score='EBIC', gamma=0.1)\n",
    "model_cv.fit(data)"
   ]
  },
  {
   "cell_type": "code",
   "execution_count": 5,
   "metadata": {},
   "outputs": [
    {
     "name": "stdout",
     "output_type": "stream",
     "text": [
      "omega_hat:\n",
      " [[ 2.03380077  1.36279999  0.        ]\n",
      " [ 1.36279999  1.8841713  -1.36310986]\n",
      " [ 0.         -1.36310986  2.03805204]]\n",
      "\n",
      "hist: (inner_iter_count, delta_subg, objective)\n",
      " [[1.88941057e-05 9.45847264e-01]\n",
      " [1.86311386e-05 9.45847253e-01]\n",
      " [1.83719341e-05 9.45847241e-01]]\n",
      "\n",
      "iterations: 500\n",
      "successive norm diff: 1.837193e-05\n",
      "objective: 9.458472e-01 \n",
      "\n",
      "cv results:\n",
      "          lam         score\n",
      "0   0.116869   7800.831566\n",
      "1   0.369572   8565.759128\n",
      "2   1.168689   8934.402873\n",
      "3   3.695718  12894.612277\n",
      "4  11.686885  12894.612277\n",
      "\n",
      "best lam: 0.11686885357906268\n"
     ]
    }
   ],
   "source": [
    "# CONCORDe CV\n",
    "\n",
    "print(\"omega_hat:\\n %s\\n\" % (str(model_cv.precision_.toarray())))\n",
    "print(\"hist: (inner_iter_count, delta_subg, objective)\\n %s\\n\" % (str(model_cv.hist_[-3:])))\n",
    "print(\"iterations: %d\" % (len(model_cv.hist_)))\n",
    "print(\"successive norm diff: %e\" % (model_cv.hist_[-1,0]))\n",
    "print(\"objective: %e \\n\" % (model_cv.hist_[-1,1]))\n",
    "print(\"cv results:\\n %s\\n\" % pd.DataFrame(model_cv.cv_results_))\n",
    "print(\"best lam: %s\" % model_cv.best_param_)"
   ]
  }
 ],
 "metadata": {
  "kernelspec": {
   "display_name": "Python 3 (ipykernel)",
   "language": "python",
   "name": "python3"
  },
  "language_info": {
   "codemirror_mode": {
    "name": "ipython",
    "version": 3
   },
   "file_extension": ".py",
   "mimetype": "text/x-python",
   "name": "python",
   "nbconvert_exporter": "python",
   "pygments_lexer": "ipython3",
   "version": "3.10.5"
  },
  "orig_nbformat": 4,
  "vscode": {
   "interpreter": {
    "hash": "d4d1e4263499bec80672ea0156c357c1ee493ec2b1c70f0acce89fc37c4a6abe"
   }
  }
 },
 "nbformat": 4,
 "nbformat_minor": 2
}
