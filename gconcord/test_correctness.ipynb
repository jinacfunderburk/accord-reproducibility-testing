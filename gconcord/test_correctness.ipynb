{
 "cells": [
  {
   "cell_type": "code",
   "execution_count": 16,
   "metadata": {},
   "outputs": [
    {
     "name": "stdout",
     "output_type": "stream",
     "text": [
      "The autoreload extension is already loaded. To reload it, use:\n",
      "  %reload_ext autoreload\n"
     ]
    }
   ],
   "source": [
    "%load_ext autoreload\n",
    "%autoreload 3\n",
    "\n",
    "import gconcord as cc\n",
    "import gconcorde as cce\n",
    "import numpy as np\n",
    "\n",
    "# import importlib\n",
    "# importlib.reload(cc)\n",
    "\n",
    "np.random.seed(3)\n",
    "\n",
    "# true precision matrix\n",
    "omega = np.zeros((3,3), order=\"C\")\n",
    "omega[0, 1] = 2.1\n",
    "omega[1, 2] = -2.1\n",
    "omega += omega.T\n",
    "np.fill_diagonal(omega, 3)\n",
    "\n",
    "# true covariance matrix\n",
    "sigma = np.linalg.inv(omega)\n",
    "\n",
    "# observations\n",
    "data = np.random.multivariate_normal([0]*3, sigma, 500)\n",
    "\n",
    "# sample covariance matrix\n",
    "S = np.cov(data, rowvar=False)"
   ]
  },
  {
   "cell_type": "code",
   "execution_count": 17,
   "metadata": {},
   "outputs": [],
   "source": [
    "def get_precision(X):\n",
    "    return .5*(np.diag(np.diag(X)) @ X) + .5*(X.T @ np.diag(np.diag(X)))"
   ]
  },
  {
   "cell_type": "code",
   "execution_count": 10,
   "metadata": {},
   "outputs": [
    {
     "name": "stdout",
     "output_type": "stream",
     "text": [
      "omega_hat:\n",
      " [[ 1.16791916  0.57351906  0.15530139]\n",
      " [ 0.57351906  0.78436955 -0.57275944]\n",
      " [ 0.15530139 -0.57275944  1.17044823]]\n",
      "\n",
      "hist: (inner_iter_count, delta_subg, objective)\n",
      " [[1.50000000e+01 3.69909808e-05 1.92169363e+00]\n",
      " [1.60000000e+01 1.84777373e-05 1.92168244e+00]\n",
      " [1.70000000e+01 9.23443516e-06 1.92167685e+00]]\n",
      "\n",
      "iterations: 21\n",
      "successive norm diff: 9.234435e-06\n",
      "objective: 1.921677e+00\n"
     ]
    }
   ],
   "source": [
    "omega_hat, hist = cce.pycceista(S, 0.5, maxitr=1000)\n",
    "print(\"omega_hat:\\n %s\\n\" % (str(get_precision(omega_hat))))\n",
    "print(\"hist: (inner_iter_count, delta_subg, objective)\\n %s\\n\" % (str(hist[-3:])))\n",
    "print(\"iterations: %d\" % (len(hist)))\n",
    "print(\"successive norm diff: %e\" % (hist[-1,1]))\n",
    "print(\"objective: %e\" % (hist[-1,2]))"
   ]
  },
  {
   "cell_type": "code",
   "execution_count": 32,
   "metadata": {},
   "outputs": [
    {
     "name": "stdout",
     "output_type": "stream",
     "text": [
      "omega_hat:\n",
      " [[ 1.57867827  0.86169305  0.        ]\n",
      " [ 0.86169305  0.97017702 -0.86123329]\n",
      " [ 0.         -0.86123329  1.58270433]]\n",
      "\n",
      "hist: (inner_iter_count, delta_subg, objective)\n",
      " [[3.91000000e+02 1.03660229e-05 1.81275934e+00]\n",
      " [3.92000000e+02 1.01655514e-05 1.81275934e+00]\n",
      " [3.93000000e+02 9.96895937e-06 1.81275933e+00]]\n",
      "\n",
      "iterations: 393\n",
      "successive norm diff: 9.968959e-06\n",
      "objective: 1.812759e+00\n"
     ]
    }
   ],
   "source": [
    "omega_hat, hist = cce.pycce_constant(S, 0.5, maxitr=1000)\n",
    "print(\"omega_hat:\\n %s\\n\" % (str(get_precision(omega_hat))))\n",
    "print(\"hist: (inner_iter_count, delta_subg, objective)\\n %s\\n\" % (str(hist[-3:])))\n",
    "print(\"iterations: %d\" % (len(hist)))\n",
    "print(\"successive norm diff: %e\" % (hist[-1,1]))\n",
    "print(\"objective: %e\" % (hist[-1,2]))"
   ]
  },
  {
   "cell_type": "code",
   "execution_count": 3,
   "metadata": {},
   "outputs": [
    {
     "name": "stdout",
     "output_type": "stream",
     "text": [
      "cce-constant\n",
      " \n",
      "# of iterations: 19\n",
      "Objective: 149.15794986582847\n",
      "Time: 0.12027239799499512\n",
      "MCC: 0.22791347494840594\n",
      " \n",
      "cce-ista\n",
      " \n",
      "# of outer iterations: 10\n",
      "# of total inner iterations: 28\n",
      "Objective: 149.15794987167354\n",
      "Time: 0.4472823143005371\n",
      "MCC: 0.22791347494840594\n",
      " \n"
     ]
    }
   ],
   "source": [
    "S = np.cov(Xs[0], rowvar=False)\n",
    "start_time = time.time()\n",
    "Omega_hat, hist = cce.pycce_constant(S, 0.03, epstol=1e-5, maxitr=1000, penalize_diagonal=False)\n",
    "time_took = time.time() - start_time\n",
    "Omega_hat_scaled= .5*(np.diag(np.diag(Omega_hat)) @ Omega_hat) + .5*(Omega_hat.T @ np.diag(np.diag(Omega_hat)))\n",
    "print('cce-constant')\n",
    "# print(' ')\n",
    "# print(Omega_hat_scaled)\n",
    "print(' ')\n",
    "print('# of iterations:', len(hist))\n",
    "print('Objective:', hist[-1][2])\n",
    "print('Time:', time_took)\n",
    "print('MCC:', mcc(Omega, Omega_hat_scaled))\n",
    "print(' ')\n",
    "S = np.cov(Xs[0], rowvar=False)\n",
    "start_time = time.time()\n",
    "Omega_hat, hist = cce.pycceista(S, 0.03, epstol=1e-5, maxitr=1000, penalize_diagonal=False)\n",
    "time_took = time.time() - start_time\n",
    "Omega_hat_scaled= .5*(np.diag(np.diag(Omega_hat)) @ Omega_hat) + .5*(Omega_hat.T @ np.diag(np.diag(Omega_hat)))\n",
    "print('cce-ista')\n",
    "# print(' ')\n",
    "# print(Omega_hat_scaled)\n",
    "print(' ')\n",
    "print('# of outer iterations:', len(hist))\n",
    "count = 0\n",
    "for i in range(len(hist)):\n",
    "    count += hist[i][0]\n",
    "print('# of total inner iterations:', int(count))\n",
    "print('Objective:', hist[-1][2])\n",
    "print('Time:', time_took)\n",
    "print('MCC:', mcc(Omega, Omega_hat_scaled))\n",
    "print(' ')"
   ]
  }
 ],
 "metadata": {
  "kernelspec": {
   "display_name": "Python 3.10.5 ('base')",
   "language": "python",
   "name": "python3"
  },
  "language_info": {
   "codemirror_mode": {
    "name": "ipython",
    "version": 3
   },
   "file_extension": ".py",
   "mimetype": "text/x-python",
   "name": "python",
   "nbconvert_exporter": "python",
   "pygments_lexer": "ipython3",
   "version": "3.10.5"
  },
  "orig_nbformat": 4,
  "vscode": {
   "interpreter": {
    "hash": "d4d1e4263499bec80672ea0156c357c1ee493ec2b1c70f0acce89fc37c4a6abe"
   }
  }
 },
 "nbformat": 4,
 "nbformat_minor": 2
}
