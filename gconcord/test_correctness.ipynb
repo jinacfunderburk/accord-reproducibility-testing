{
 "cells": [
  {
   "cell_type": "code",
   "execution_count": 1,
   "metadata": {},
   "outputs": [],
   "source": [
    "%load_ext autoreload\n",
    "%autoreload 3\n",
    "\n",
    "import gconcord as cc\n",
    "import gconcorde as cce\n",
    "import numpy as np\n",
    "\n",
    "# import importlib\n",
    "# importlib.reload(cc)\n",
    "\n",
    "np.random.seed(3)\n",
    "\n",
    "# true precision matrix\n",
    "omega = np.zeros((3,3), order=\"C\")\n",
    "omega[0, 1] = 2.1\n",
    "omega[1, 2] = -2.1\n",
    "omega += omega.T\n",
    "np.fill_diagonal(omega, 3)\n",
    "\n",
    "# true covariance matrix\n",
    "sigma = np.linalg.inv(omega)\n",
    "\n",
    "# observations\n",
    "data = np.random.multivariate_normal([0]*3, sigma, 500)\n",
    "\n",
    "# sample covariance matrix\n",
    "S = np.cov(data, rowvar=False)"
   ]
  },
  {
   "cell_type": "code",
   "execution_count": 2,
   "metadata": {},
   "outputs": [],
   "source": [
    "def get_precision(X):\n",
    "    return .5*(np.diag(np.diag(X)) @ X) + .5*(X.T @ np.diag(np.diag(X)))"
   ]
  },
  {
   "cell_type": "code",
   "execution_count": 3,
   "metadata": {},
   "outputs": [
    {
     "name": "stdout",
     "output_type": "stream",
     "text": [
      "omega_hat:\n",
      " [[ 1.16791916  0.57351906  0.15530139]\n",
      " [ 0.57351906  0.78436955 -0.57275944]\n",
      " [ 0.15530139 -0.57275944  1.17044823]]\n",
      "\n",
      "hist: (inner_iter_count, delta_subg, objective)\n",
      " [[1.50000000e+01 3.69909808e-05 1.92169363e+00]\n",
      " [1.60000000e+01 1.84777373e-05 1.92168244e+00]\n",
      " [1.70000000e+01 9.23443516e-06 1.92167685e+00]]\n",
      "\n",
      "iterations: 21\n",
      "successive norm diff: 9.234435e-06\n",
      "objective: 1.921677e+00\n"
     ]
    }
   ],
   "source": [
    "omega_hat, hist = cce.pycceista(S, 0.5, epstol=1e-7, maxitr=1000)\n",
    "print(\"omega_hat:\\n %s\\n\" % (str(get_precision(omega_hat))))\n",
    "print(\"hist: (inner_iter_count, delta_subg, objective)\\n %s\\n\" % (str(hist[-3:])))\n",
    "print(\"iterations: %d\" % (len(hist)))\n",
    "print(\"successive norm diff: %e\" % (hist[-1,1]))\n",
    "print(\"objective: %e\" % (hist[-1,2]))"
   ]
  },
  {
   "cell_type": "code",
   "execution_count": 4,
   "metadata": {},
   "outputs": [
    {
     "name": "stdout",
     "output_type": "stream",
     "text": [
      "omega_hat:\n",
      " [[ 1.57867827  0.86169305  0.        ]\n",
      " [ 0.86169305  0.97017702 -0.86123329]\n",
      " [ 0.         -0.86123329  1.58270433]]\n",
      "\n",
      "hist: (inner_iter_count, delta_subg, objective)\n",
      " [[3.91000000e+02 1.03660229e-05 1.81275934e+00]\n",
      " [3.92000000e+02 1.01655514e-05 1.81275934e+00]\n",
      " [3.93000000e+02 9.96895937e-06 1.81275933e+00]]\n",
      "\n",
      "iterations: 393\n",
      "successive norm diff: 9.968959e-06\n",
      "objective: 1.812759e+00\n"
     ]
    }
   ],
   "source": [
    "omega_hat, hist = cce.pycce_constant(S, 0.5, epstol=1e-7, maxitr=1000)\n",
    "print(\"omega_hat:\\n %s\\n\" % (str(get_precision(omega_hat))))\n",
    "print(\"hist: (inner_iter_count, delta_subg, objective)\\n %s\\n\" % (str(hist[-3:])))\n",
    "print(\"iterations: %d\" % (len(hist)))\n",
    "print(\"successive norm diff: %e\" % (hist[-1,1]))\n",
    "print(\"objective: %e\" % (hist[-1,2]))"
   ]
  },
  {
   "cell_type": "code",
   "execution_count": 5,
   "metadata": {},
   "outputs": [
    {
     "ename": "NameError",
     "evalue": "name 'Xs' is not defined",
     "output_type": "error",
     "traceback": [
      "\u001b[0;31m---------------------------------------------------------------------------\u001b[0m",
      "\u001b[0;31mNameError\u001b[0m                                 Traceback (most recent call last)",
      "\u001b[1;32m/workspaces/gconcorde/gconcord/test_correctness.ipynb Cell 5\u001b[0m in \u001b[0;36m<cell line: 1>\u001b[0;34m()\u001b[0m\n\u001b[0;32m----> <a href='vscode-notebook-cell://dev-container%2B7b22686f737450617468223a222f686f6d652f73796f682f446f63756d656e74732f67636f6e636f726465222c226c6f63616c446f636b6572223a66616c73652c2273657474696e6773223a7b22686f7374223a227373683a2f2f616e6e6162656c6c652e70737461742e756373622e656475227d7d/workspaces/gconcorde/gconcord/test_correctness.ipynb#W4sdnNjb2RlLXJlbW90ZQ%3D%3D?line=0'>1</a>\u001b[0m S \u001b[39m=\u001b[39m np\u001b[39m.\u001b[39mcov(Xs[\u001b[39m0\u001b[39m], rowvar\u001b[39m=\u001b[39m\u001b[39mFalse\u001b[39;00m)\n\u001b[1;32m      <a href='vscode-notebook-cell://dev-container%2B7b22686f737450617468223a222f686f6d652f73796f682f446f63756d656e74732f67636f6e636f726465222c226c6f63616c446f636b6572223a66616c73652c2273657474696e6773223a7b22686f7374223a227373683a2f2f616e6e6162656c6c652e70737461742e756373622e656475227d7d/workspaces/gconcorde/gconcord/test_correctness.ipynb#W4sdnNjb2RlLXJlbW90ZQ%3D%3D?line=1'>2</a>\u001b[0m start_time \u001b[39m=\u001b[39m time\u001b[39m.\u001b[39mtime()\n\u001b[1;32m      <a href='vscode-notebook-cell://dev-container%2B7b22686f737450617468223a222f686f6d652f73796f682f446f63756d656e74732f67636f6e636f726465222c226c6f63616c446f636b6572223a66616c73652c2273657474696e6773223a7b22686f7374223a227373683a2f2f616e6e6162656c6c652e70737461742e756373622e656475227d7d/workspaces/gconcorde/gconcord/test_correctness.ipynb#W4sdnNjb2RlLXJlbW90ZQ%3D%3D?line=2'>3</a>\u001b[0m Omega_hat, hist \u001b[39m=\u001b[39m cce\u001b[39m.\u001b[39mpycce_constant(S, \u001b[39m0.03\u001b[39m, epstol\u001b[39m=\u001b[39m\u001b[39m1e-5\u001b[39m, maxitr\u001b[39m=\u001b[39m\u001b[39m1000\u001b[39m, penalize_diagonal\u001b[39m=\u001b[39m\u001b[39mFalse\u001b[39;00m)\n",
      "\u001b[0;31mNameError\u001b[0m: name 'Xs' is not defined"
     ]
    }
   ],
   "source": [
    "S = np.cov(Xs[0], rowvar=False)\n",
    "start_time = time.time()\n",
    "Omega_hat, hist = cce.pycce_constant(S, 0.03, epstol=1e-5, maxitr=1000, penalize_diagonal=False)\n",
    "time_took = time.time() - start_time\n",
    "Omega_hat_scaled= .5*(np.diag(np.diag(Omega_hat)) @ Omega_hat) + .5*(Omega_hat.T @ np.diag(np.diag(Omega_hat)))\n",
    "print('cce-constant')\n",
    "# print(' ')\n",
    "# print(Omega_hat_scaled)\n",
    "print(' ')\n",
    "print('# of iterations:', len(hist))\n",
    "print('Objective:', hist[-1][2])\n",
    "print('Time:', time_took)\n",
    "print('MCC:', mcc(Omega, Omega_hat_scaled))\n",
    "print(' ')\n",
    "S = np.cov(Xs[0], rowvar=False)\n",
    "start_time = time.time()\n",
    "Omega_hat, hist = cce.pycceista(S, 0.03, epstol=1e-5, maxitr=1000, penalize_diagonal=False)\n",
    "time_took = time.time() - start_time\n",
    "Omega_hat_scaled= .5*(np.diag(np.diag(Omega_hat)) @ Omega_hat) + .5*(Omega_hat.T @ np.diag(np.diag(Omega_hat)))\n",
    "print('cce-ista')\n",
    "# print(' ')\n",
    "# print(Omega_hat_scaled)\n",
    "print(' ')\n",
    "print('# of outer iterations:', len(hist))\n",
    "count = 0\n",
    "for i in range(len(hist)):\n",
    "    count += hist[i][0]\n",
    "print('# of total inner iterations:', int(count))\n",
    "print('Objective:', hist[-1][2])\n",
    "print('Time:', time_took)\n",
    "print('MCC:', mcc(Omega, Omega_hat_scaled))\n",
    "print(' ')"
   ]
  }
 ],
 "metadata": {
  "kernelspec": {
   "display_name": "Python 3.10.5 ('base')",
   "language": "python",
   "name": "python3"
  },
  "language_info": {
   "codemirror_mode": {
    "name": "ipython",
    "version": 3
   },
   "file_extension": ".py",
   "mimetype": "text/x-python",
   "name": "python",
   "nbconvert_exporter": "python",
   "pygments_lexer": "ipython3",
   "version": "3.10.5"
  },
  "orig_nbformat": 4,
  "vscode": {
   "interpreter": {
    "hash": "d4d1e4263499bec80672ea0156c357c1ee493ec2b1c70f0acce89fc37c4a6abe"
   }
  }
 },
 "nbformat": 4,
 "nbformat_minor": 2
}
