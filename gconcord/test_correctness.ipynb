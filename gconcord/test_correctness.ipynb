{
 "cells": [
  {
   "cell_type": "code",
   "execution_count": 1,
   "metadata": {},
   "outputs": [],
   "source": [
    "%load_ext autoreload\n",
    "%autoreload 3\n",
    "\n",
    "import gconcord as cc\n",
    "import gconcorde as cce\n",
    "import numpy as np\n",
    "\n",
    "# import importlib\n",
    "# importlib.reload(cc)\n",
    "\n",
    "# true precision matrix\n",
    "omega = np.zeros((4,4), order=\"C\")\n",
    "omega[0, 1] = 2.1\n",
    "omega[1, 2] = -2.1\n",
    "omega += omega.T\n",
    "np.fill_diagonal(omega, 4)\n",
    "\n",
    "# true covariance matrix\n",
    "sigma = np.linalg.inv(omega)\n",
    "\n",
    "# observations\n",
    "np.random.seed(2022)\n",
    "data = np.random.multivariate_normal([0]*4, sigma, 2000)\n",
    "\n",
    "# sample covariance matrix\n",
    "S = np.cov(data, rowvar=False)"
   ]
  },
  {
   "cell_type": "code",
   "execution_count": 2,
   "metadata": {},
   "outputs": [
    {
     "data": {
      "text/plain": [
       "3.27100485543166"
      ]
     },
     "execution_count": 2,
     "metadata": {},
     "output_type": "execute_result"
    }
   ],
   "source": [
    "lam_mat = 0.1 * np.ones((4, 4), dtype=\"float64\")\n",
    "np.fill_diagonal(lam_mat, 0)\n",
    "-np.log(omega.diagonal()).sum() + 0.5*np.matmul(omega, np.matmul(S, omega)).trace() + (lam_mat * np.abs(omega)).sum()"
   ]
  },
  {
   "cell_type": "code",
   "execution_count": 22,
   "metadata": {},
   "outputs": [
    {
     "name": "stdout",
     "output_type": "stream",
     "text": [
      "[[ 1.91691183  0.76716446  0.          0.        ]\n",
      " [ 0.69438322  1.79645523 -0.79857351 -0.        ]\n",
      " [ 0.         -0.85002364  1.89956931  0.        ]\n",
      " [ 0.         -0.          0.          2.00412908]]\n",
      " \n",
      "# of iterations: 36\n",
      " \n",
      "Objective: -0.4178700483631105\n",
      " \n",
      "CPU times: user 4.55 ms, sys: 17 µs, total: 4.57 ms\n",
      "Wall time: 4.24 ms\n"
     ]
    }
   ],
   "source": [
    "%%time\n",
    "omega_hat, hist = cce.pycce_constant(S, 0.1, epstol=1e-5, maxitr=1000, penalize_diagonal=False)\n",
    "print(omega_hat)\n",
    "print(' ')\n",
    "print('# of iterations:', len(hist))\n",
    "print(' ')\n",
    "print('Objective:', hist[-1][2])\n",
    "print(' ')"
   ]
  },
  {
   "cell_type": "code",
   "execution_count": 11,
   "metadata": {},
   "outputs": [
    {
     "data": {
      "text/plain": [
       "array([[ 3.67455097,  1.35900749,  0.        ,  0.        ],\n",
       "       [ 1.35900749,  3.22725139, -1.52464019,  0.        ],\n",
       "       [ 0.        , -1.52464019,  3.60836355,  0.        ],\n",
       "       [ 0.        ,  0.        ,  0.        ,  4.01653339]])"
      ]
     },
     "execution_count": 11,
     "metadata": {},
     "output_type": "execute_result"
    }
   ],
   "source": [
    ".5*(np.diag(np.diag(omega_hat)) @ omega_hat) + .5*(omega_hat.T @ np.diag(np.diag(omega_hat)))"
   ]
  },
  {
   "cell_type": "code",
   "execution_count": 21,
   "metadata": {},
   "outputs": [
    {
     "name": "stdout",
     "output_type": "stream",
     "text": [
      "[[ 1.91478508  0.76457886  0.          0.        ]\n",
      " [ 0.69005572  1.79184331 -0.79344326 -0.        ]\n",
      " [ 0.         -0.84683887  1.89705232  0.        ]\n",
      " [ 0.         -0.          0.          2.00411657]]\n",
      " \n",
      "# of iterations: 2001\n",
      " \n",
      "Objective: -0.4178802881739977\n",
      " \n",
      "CPU times: user 4.58 s, sys: 12.1 ms, total: 4.59 s\n",
      "Wall time: 4.7 s\n"
     ]
    }
   ],
   "source": [
    "%%time\n",
    "omega_hat, hist = cce.pycceista(S, 0.1, epstol=1e-5, maxitr=1000, penalize_diagonal=False)\n",
    "print(omega_hat)\n",
    "print(' ')\n",
    "print('# of iterations:', len(hist))\n",
    "print(' ')\n",
    "print('Objective:', hist[-1][2])\n",
    "print(' ')"
   ]
  },
  {
   "cell_type": "code",
   "execution_count": 23,
   "metadata": {},
   "outputs": [
    {
     "data": {
      "text/plain": [
       "array([[ 3.67455097,  1.35900749,  0.        ,  0.        ],\n",
       "       [ 1.35900749,  3.22725139, -1.52464019,  0.        ],\n",
       "       [ 0.        , -1.52464019,  3.60836355,  0.        ],\n",
       "       [ 0.        ,  0.        ,  0.        ,  4.01653339]])"
      ]
     },
     "execution_count": 23,
     "metadata": {},
     "output_type": "execute_result"
    }
   ],
   "source": [
    ".5*(np.diag(np.diag(omega_hat)) @ omega_hat) + .5*(omega_hat.T @ np.diag(np.diag(omega_hat)))"
   ]
  }
 ],
 "metadata": {
  "kernelspec": {
   "display_name": "Python 3.10.5 ('base')",
   "language": "python",
   "name": "python3"
  },
  "language_info": {
   "codemirror_mode": {
    "name": "ipython",
    "version": 3
   },
   "file_extension": ".py",
   "mimetype": "text/x-python",
   "name": "python",
   "nbconvert_exporter": "python",
   "pygments_lexer": "ipython3",
   "version": "3.10.5"
  },
  "orig_nbformat": 4,
  "vscode": {
   "interpreter": {
    "hash": "d4d1e4263499bec80672ea0156c357c1ee493ec2b1c70f0acce89fc37c4a6abe"
   }
  }
 },
 "nbformat": 4,
 "nbformat_minor": 2
}
